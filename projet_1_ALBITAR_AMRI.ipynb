{
  "cells": [
    {
      "cell_type": "markdown",
      "metadata": {
        "id": "view-in-github",
        "colab_type": "text"
      },
      "source": [
        "<a href=\"https://colab.research.google.com/github/sam1610/MimiProjects/blob/main/projet_1_ALBITAR_AMRI.ipynb\" target=\"_parent\"><img src=\"https://colab.research.google.com/assets/colab-badge.svg\" alt=\"Open In Colab\"/></a>"
      ]
    },
    {
      "cell_type": "markdown",
      "metadata": {
        "id": "KmPOQ_EsJkfz"
      },
      "source": [
        "IA & Data science (LU3IN0226) -- 2021-2022\n",
        "--------\n",
        "*&copy; Equipe pédagogique: Vincent Guigue, Christophe Marsala, Olivier Schwander.*"
      ]
    },
    {
      "cell_type": "markdown",
      "metadata": {
        "id": "hdejLrh-Jkf9"
      },
      "source": [
        "<font size=\"+1\" color=\"RED\"><b>[Q]</b></font> <font size=\"+1\"><b>Indiquer dans la boîte ci-dessous vos noms et prénoms :</b></font>"
      ]
    },
    {
      "cell_type": "markdown",
      "metadata": {
        "id": "PF3-tw3NJkf_"
      },
      "source": [
        "ALBITAR Nadia \n",
        "AMRI Malek \n"
      ]
    },
    {
      "cell_type": "markdown",
      "metadata": {
        "id": "P2Wk2gelJkgA"
      },
      "source": [
        "Ce projet peut être fait (c'est même recommandé) en binôme. Le nom de chaque membre du binôme doit être indiqué, et un seul rendu sur un des deux comptes Moodle doit être fait.\n",
        "\n",
        "Les groupes de plus de 2 personnes ne sont pas autorisés."
      ]
    },
    {
      "cell_type": "markdown",
      "metadata": {
        "id": "Mlas3pE1JkgB"
      },
      "source": [
        "<font color=\"RED\" size=\"+1\"><b>[Q]</b></font> **Renommer ce fichier ipython**\n",
        "\n",
        "Tout en haut de cette page, cliquer sur <tt>projet-1</tt> et rajouter à la suite de <tt>projet-1</tt> les noms des membres du binômes séparés par un tiret.\n",
        "\n",
        "<font color=\"RED\" size=\"+1\">IMPORTANT: soumission de votre fichier final</font>\n",
        "\n",
        "**Nom à donner au notebook** : *projet-1-Nom1_Nom2.ipynb* \n",
        "- *Nom1* et *Nom2* : noms des membres du binôme\n",
        "\n",
        "**Le compte-rendu doit être rendu sur la page Moodle.**"
      ]
    },
    {
      "cell_type": "markdown",
      "metadata": {
        "id": "laICQOlkJkgD"
      },
      "source": [
        "# Projet 1 - mars 2022\n",
        "\n",
        "\n",
        "<font size=\"+1\" color=\"RED\"><b>Date de rendu : vendredi 25 mars, 18h au plus tard</b></font>\n",
        "<br />\n",
        "\n",
        "\n",
        "Vous devez compléter ce notebook en rajoutant vos expérimentations avec vos algorithmes d'apprentissage sur:\n",
        "- les données Bases_IADS : cela correspond à un problème de classification binaire\n",
        "- les données Bases_IADS_multiclasses : cela correspond à un problème de classification multiclasses\n",
        "\n",
        "Très important : les fichiers de données doivent être placés de façon à respecter la structure de fichiers suivantes:\n",
        "\n",
        "          -- ce_notebook.ipynb\n",
        "          -- Bases_IADS/ \n",
        "              -- README.txt\n",
        "              -- train.csv\n",
        "              -- test.csv\n",
        "              -- eval.csv\n",
        "              -- names.csv\n",
        "          -- Bases_IADS_multiclasses/\n",
        "              -- README.txt\n",
        "              -- train_multi.csv\n",
        "              -- test_multi.csv\n",
        "              -- eval_multi.csv\n",
        "              -- names_multi.csv\n",
        "\n",
        "Dans le notebook, le chargement des fichiers de données considèrera donc cette arborescence.\n",
        "\n",
        "\n",
        "Les fichiers de chaque répertoire correspondent à:\n",
        "- fichier README.txt : donne des explications sur le contenu du répertoire\n",
        "- fichier train*.csv : base d'apprentissage à utiliser pour construire le classfieur\n",
        "- fichier test*.csv : base de test pour évaluer vous même le classifieur construit. Les exemples de ce fichier NE DOIVENT PAS être utilisés pour l'apprentissage du classifieur.\n",
        "- fichier eval*.csv : fichier d'évaluation du classifieur (voir ci-dessous).\n",
        "\n",
        "## Travail à faire\n",
        "\n",
        "Pour chaque ensemble de données:\n",
        "- les 2 algorithmes d'apprentissage knn et perceptron doivent être expérimentés et comparés (ATTENTION: on ne veut que des algorithmes que vous avez implémentés vous-même dans cette UE).\n",
        "- des résultats d'expérimentations pourront être : comparaison des taux de bonne classification apprentissage / test (avec validation croisée), visualisation, etc.\n",
        "- de plus, un fichier `eval.csv` est fourni. Ce fichier contient des descriptions associées à un \"faux\" label. Dans votre compte-rendu, vous devez fournir un fichier CSV qui donne, pour chaque exemple du fichier `eval.csv`la classe trouvée par votre meilleur classifieur. Ainsi, le fichier CSV à rendre doit comporter 2 colonnes et autant de lignes que d'exemples (une ligne par exemple du fichier eval):<br>\n",
        "            IDENTIFIANT;CLASSE_TROUVEE_POUR_CET_EXEMPLE\n",
        "            ...\n",
        "Le résultat de classification vous sera donné en retour (nous connaissons la vraie classe des exemples de ce fichier...).\n",
        "\n",
        "Vos **expérimentations doivent être expliquées** (utilisez des boîtes Markdown pour saisir vos explications):\n",
        "- une argumentation du type *\"pourquoi vous avez fait cette expérimentation\"* doit être fournie;\n",
        "- une analyse succincte du résultat fourni doit être aussi donnée.\n",
        "\n",
        "\n",
        "Par exemple (indicatif): choix de $k$ pour le knn:\n",
        "- argumentation : pour décider quelle peut être la valeur de $k$ optimale, on décide de tester plusieurs valeurs différentes et de comparer les taux de bonne classification sur la base de test obtenus.\n",
        "- analyse du résultat: on remarque que la valeur $k$ suivante fournie le meilleur résultat.\n",
        "\n",
        "\n",
        "\n",
        "## Travail à rendre\n",
        "Ce qui doit être rendu : un fichier archive (`.tar`, `.tgz`, ou `.zip` uniquement)\n",
        "- ce notebook, dans lequel vous avez reporté toutes les fonctions que vous utilisez : ce notebook doit pouvoir être exécuté sans autre apport (pensez à vous en assurer avant de le rendre). Les fichiers de données ne doivent pas être inclus dans votre archive !\n",
        "- un fichier CSV dont le nom est de la forme: *projet-1-Nom1_Nom2.csv* (sur le modèle du nom du notebook) qui donne la classe de chaque exemple du fichier `eval.csv` trouvée par votre classifieur.\n",
        "\n",
        "\n",
        "**Remarque**: en considérant que les algorithmes knn et perceptron ont été réalisés lors des séances de TME 1 à 6, le travail demandé pour ce projet correspond à, au plus, une séance complète de TME."
      ]
    },
    {
      "cell_type": "code",
      "execution_count": null,
      "metadata": {
        "id": "8ZyRcfFcJkgJ"
      },
      "outputs": [],
      "source": [
        "import numpy as np\n",
        "import pandas as pd \n",
        "import matplotlib.pyplot as plt\n",
        "from numpy import random\n",
        "%matplotlib inline "
      ]
    },
    {
      "cell_type": "code",
      "execution_count": null,
      "metadata": {
        "id": "H7f_O3DZP0En"
      },
      "outputs": [],
      "source": [
        "class Classifier:\n",
        "    \"\"\" Classe (abstraite) pour représenter un classifieur\n",
        "        Attention: cette classe est ne doit pas être instanciée.\n",
        "    \"\"\"\n",
        "    \n",
        "    def __init__(self, input_dimension):\n",
        "        \"\"\" Constructeur de Classifier\n",
        "            Argument:\n",
        "                - intput_dimension (int) : dimension de la description des exemples\n",
        "            Hypothèse : input_dimension > 0\n",
        "        \"\"\"\n",
        "        raise NotImplementedError(\"Please Implement this method\")\n",
        "        \n",
        "    def train(self, desc_set, label_set):\n",
        "        \"\"\" Permet d'entrainer le modele sur l'ensemble donné\n",
        "            desc_set: ndarray avec des descriptions\n",
        "            label_set: ndarray avec les labels correspondants\n",
        "            Hypothèse: desc_set et label_set ont le même nombre de lignes\n",
        "        \"\"\"        \n",
        "        raise NotImplementedError(\"Please Implement this method\")\n",
        "    \n",
        "    def score(self,x):\n",
        "        \"\"\" rend le score de prédiction sur x (valeur réelle)\n",
        "            x: une description\n",
        "        \"\"\"\n",
        "        raise NotImplementedError(\"Please Implement this method\")\n",
        "    \n",
        "    def predict(self, x):\n",
        "        \"\"\" rend la prediction sur x (soit -1 ou soit +1)\n",
        "            x: une description\n",
        "        \"\"\"\n",
        "        raise NotImplementedError(\"Please Implement this method\")\n",
        "\n",
        "    def accuracy(self, desc_set, label_set):\n",
        "        \"\"\" Permet de calculer la qualité du système sur un dataset donné\n",
        "            desc_set: ndarray avec des descriptions\n",
        "            label_set: ndarray avec les labels correspondants\n",
        "            Hypothèse: desc_set et label_set ont le même nombre de lignes\n",
        "        \"\"\"\n",
        "        # ------------------------------\n",
        "        cpt=0\n",
        "        for x in range(len(desc_set)):\n",
        "            if self.predict(desc_set[x]) == label_set[x]:\n",
        "                cpt+=1\n",
        "        return cpt/len(desc_set)\n",
        "        # ------------------------------\n",
        "  "
      ]
    },
    {
      "cell_type": "code",
      "execution_count": null,
      "metadata": {
        "id": "zU51Y7uSQjEq"
      },
      "outputs": [],
      "source": [
        "#Clasifieur KNN \n",
        "\n",
        "class ClassifierKNN(Classifier):\n",
        "    \"\"\" Classe pour représenter un classifieur par K plus proches voisins.\n",
        "        Cette classe hérite de la classe Classifier\n",
        "    \"\"\"\n",
        "\n",
        "    # ATTENTION : il faut compléter cette classe avant de l'utiliser !\n",
        "    \n",
        "    def __init__(self, input_dimension, k):\n",
        "        \"\"\" Constructeur de Classifier\n",
        "            Argument:\n",
        "                - intput_dimension (int) : dimension d'entrée des exemples\n",
        "                - k (int) : nombre de voisins à considérer\n",
        "            Hypothèse : input_dimension > 0\n",
        "        \"\"\"\n",
        "        self.input_dimension= input_dimension\n",
        "        self.k=k\n",
        "        \n",
        "    def score(self,x):\n",
        "        \"\"\" rend la proportion de +1 parmi les k ppv de x (valeur réelle)\n",
        "            x: une description : un ndarray\n",
        "        \"\"\"\n",
        "        tab=[]\n",
        "        for i in range(len(self.desc_set)):\n",
        "            tab.append(np.linalg.norm(x-self.desc_set[i]))\n",
        "        tab2=np.argsort(tab,axis=0)\n",
        "        tab2=tab2[:self.k]\n",
        "        cpt=0\n",
        "        for i in (tab2):\n",
        "            if self.label_set[i]==1:\n",
        "                cpt+=1\n",
        "        cpt=cpt/self.k\n",
        "        return 2*(cpt-0.5)\n",
        "        \n",
        "    \n",
        "    def predict(self, x):\n",
        "        \"\"\" rend la prediction sur x (-1 ou +1)\n",
        "            x: une description : un ndarray\n",
        "        \"\"\"\n",
        "        pred_score=self.score(x)\n",
        "        if pred_score<0:\n",
        "            return -1\n",
        "        else:\n",
        "            return 1\n",
        "\n",
        "    def train(self, desc_set, label_set):\n",
        "        \"\"\" Permet d'entrainer le modele sur l'ensemble donné\n",
        "            desc_set: ndarray avec des descriptions\n",
        "            label_set: ndarray avec les labels correspondants\n",
        "            Hypothèse: desc_set et label_set ont le même nombre de lignes\n",
        "        \"\"\"        \n",
        "        self.desc_set=desc_set\n",
        "        self.label_set=label_set"
      ]
    },
    {
      "cell_type": "code",
      "execution_count": null,
      "metadata": {
        "id": "8-QpMFuWQqrJ"
      },
      "outputs": [],
      "source": [
        "#classifieur perceptron \n",
        "\n",
        "class ClassifierPerceptron(Classifier):\n",
        "    \"\"\" Perceptron de Rosenblatt\n",
        "    \"\"\"\n",
        "    def __init__(self, input_dimension, learning_rate, init=0):\n",
        "        \"\"\" Constructeur de Classifier\n",
        "            Argument:\n",
        "                - input_dimension (int) : dimension de la description des exemples (>0)\n",
        "                - learning_rate : epsilon\n",
        "                - init est le mode d'initialisation de w: \n",
        "                    - si 0 (par défaut): initialisation à 0 de w,\n",
        "                    - si 1 : initialisation par tirage aléatoire de valeurs petites\n",
        "        \"\"\"\n",
        "        self.learning_rate=learning_rate\n",
        "        self.input_dimension=input_dimension\n",
        "        if init==0:\n",
        "            self.w = np.zeros(input_dimension)\n",
        "        elif init==1:\n",
        "            #np.random.uniform(0,1,input_dimension) sinon\n",
        "            self.v=np.zeros(input_dimension)\n",
        "            for i in range(input_dimension):\n",
        "                self.v[i]=random.rand()\n",
        "                self.v[i]= self.v[i] *2 -1\n",
        "                self.v[i] = 0.001*self.v[i]\n",
        "            self.w=self.v\n",
        "        \n",
        "    def train_step(self, desc_set, label_set):\n",
        "        \"\"\" Réalise une unique itération sur tous les exemples du dataset\n",
        "            donné en prenant les exemples aléatoirement.\n",
        "            Arguments:\n",
        "                - desc_set: ndarray avec des descriptions\n",
        "                - label_set: ndarray avec les labels correspondants\n",
        "        \"\"\"   \n",
        "        l=[i for i in range(len(desc_set))]\n",
        "        np.random.shuffle(l) \n",
        "        \n",
        "        for i in l:\n",
        "            s =self.predict(desc_set[i])\n",
        "            if s!=label_set[i]: \n",
        "                 self.w+= self.learning_rate*label_set[i]*desc_set[i]\n",
        "     \n",
        "    def train(self, desc_set, label_set, niter_max=100, seuil=0.01):\n",
        "        \"\"\" Apprentissage itératif du perceptron sur le dataset donné.\n",
        "            Arguments:\n",
        "                - desc_set: ndarray avec des descriptions\n",
        "                - label_set: ndarray avec les labels correspondants\n",
        "                - niter_max (par défaut: 100) : nombre d'itérations maximale\n",
        "                - seuil (par défaut: 0.01) : seuil de convergence\n",
        "            Retour: la fonction rend une liste\n",
        "                - liste des valeurs de norme de différences\n",
        "        \"\"\"     \n",
        "        l_norme=[]\n",
        "        old_w=self.w.copy()\n",
        "        for i in range(niter_max):\n",
        "            self.train_step(desc_set,label_set)\n",
        "            norme= np.linalg.norm(self.w-old_w)\n",
        "            l_norme.append(norme)\n",
        "            if norme<=seuil:\n",
        "                return l_norme\n",
        "        return l_norme           \n",
        "\n",
        "    \n",
        "    def score(self,x):\n",
        "        \"\"\" rend le score de prédiction sur x (valeur réelle)\n",
        "            x: une description\n",
        "        \"\"\"\n",
        "        return np.dot(x, self.w)\n",
        "    \n",
        "    def predict(self, x):\n",
        "        \"\"\" rend la prediction sur x (soit -1 ou soit +1)\n",
        "            x: une description\n",
        "        \"\"\"\n",
        "        pred_score=self.score(x)\n",
        "        if pred_score<0:\n",
        "            return -1\n",
        "        else:\n",
        "            return 1\n",
        "    "
      ]
    },
    {
      "cell_type": "code",
      "source": [
        "#import fonction pour représentation graphique\n",
        "def plot2DSet(array1,array2):\n",
        "\n",
        "    data2_negatifs = array1[array2 == -1]\n",
        "\n",
        "    data2_positifs = array1[array2== +1]\n",
        "\n",
        "    plt.scatter(data2_negatifs[:,0],data2_negatifs[:,1],marker='o', color=\"red\") # 'o' rouge pour la classe -1\n",
        "    plt.scatter(data2_positifs[:,0],data2_positifs[:,1],marker='x', color=\"blue\")\n",
        "    \n",
        "def plot_frontiere(desc_set, label_set, classifier, step=30):\n",
        "    \"\"\" desc_set * label_set * Classifier * int -> NoneType\n",
        "        Remarque: le 4e argument est optionnel et donne la \"résolution\" du tracé: plus il est important\n",
        "        et plus le tracé de la frontière sera précis.        \n",
        "        Cette fonction affiche la frontière de décision associée au classifieur\n",
        "    \"\"\"\n",
        "    mmax=desc_set.max(0)\n",
        "    mmin=desc_set.min(0)\n",
        "    x1grid,x2grid=np.meshgrid(np.linspace(mmin[0],mmax[0],step),np.linspace(mmin[1],mmax[1],step))\n",
        "    grid=np.hstack((x1grid.reshape(x1grid.size,1),x2grid.reshape(x2grid.size,1)))\n",
        "    \n",
        "    # calcul de la prediction pour chaque point de la grille\n",
        "    res=np.array([classifier.predict(grid[i,:]) for i in range(len(grid)) ])\n",
        "    res=res.reshape(x1grid.shape)\n",
        "    # tracer des frontieres\n",
        "    # colors[0] est la couleur des -1 et colors[1] est la couleur des +1\n",
        "    plt.contourf(x1grid,x2grid,res,colors=[\"darksalmon\",\"skyblue\"],levels=[-1000,0,1000])\n",
        "    \n",
        "from matplotlib import cm\n",
        "def plot_frontiere_3D(desc_set, label_set, classifier, step=30):\n",
        "    \"\"\" desc_set * label_set * Classifier * int -> NoneType\n",
        "        Remarque: le 4e argument est optionnel et donne la \"résolution\" du tracé\n",
        "        affiche la frontière de décision associée au classifieur\n",
        "    \"\"\"\n",
        "    mmax=desc_set.max(0)\n",
        "    mmin=desc_set.min(0)\n",
        "    x1grid,x2grid=np.meshgrid(np.linspace(mmin[0],mmax[0],step),np.linspace(mmin[1],mmax[1],step))\n",
        "    grid=np.hstack((x1grid.reshape(x1grid.size,1),x2grid.reshape(x2grid.size,1)))\n",
        "    \n",
        "    # calcul de la prediction pour chaque point de la grille\n",
        "    res=np.array([classifier.score(grid[i,:]) for i in range(len(grid)) ])\n",
        "    res=res.reshape(x1grid.shape)\n",
        "    # tracer f en 3D:\n",
        "    fig = plt.gcf()\n",
        "    ax = fig.gca(projection='3d')\n",
        "    ax.set_xlabel('X_1')\n",
        "    ax.set_ylabel('X_2')\n",
        "    ax.set_zlabel('f(X)')\n",
        "\n",
        "    surf = ax.plot_surface(x1grid,x2grid,res, cmap=cm.coolwarm, linewidth=0, antialiased=False)\n",
        "    negatifs = desc_set[label_set == -1]\n",
        "    # Ensemble des exemples de classe +1:\n",
        "    positifs = desc_set[label_set == +1]\n",
        "    # Affichage de l'ensemble des exemples :\n",
        "    ax.scatter(negatifs[:,0],negatifs[:,1],-1,marker='o', color=\"red\") # 'o' pour la classe -1\n",
        "    ax.scatter(positifs[:,0],positifs[:,1],1,marker='x', color=\"blue\") # 'x' pour la classe +1\n",
        "    ax.view_init(40, 170) # a régler en fonction des données"
      ],
      "metadata": {
        "id": "QoKPGBEf9LFw"
      },
      "execution_count": null,
      "outputs": []
    },
    {
      "cell_type": "code",
      "source": [
        "def crossval(X, Y, n_iterations, iteration):\n",
        "    longueur=len(X)//n_iterations\n",
        "    l2X=[]\n",
        "    l2Y=[]\n",
        "    x=0\n",
        "    i=0\n",
        "    while (i<n_iterations):\n",
        "        lX=X[x:longueur+x]\n",
        "        lY=Y[x:longueur+x]\n",
        "        x+=longueur\n",
        "        i+=1\n",
        "        l2X.append(lX)\n",
        "        l2Y.append(lY)\n",
        "    \n",
        "    Xtest=np.asarray(l2X[iteration])  \n",
        "    Ytest=np.asarray(l2Y[iteration])\n",
        "    \n",
        "    #concatenate parce que qu'on ne veut pas liste de liste\n",
        "    Xa=np.asarray(l2X[:iteration]+l2X[iteration+1:])\n",
        "    Xapp=Xa.flatten()\n",
        "    Ya=np.asarray(l2Y[:iteration]+l2Y[iteration+1:])\n",
        "    Yapp=Ya.flatten()\n",
        "    return Xapp, Yapp, Xtest, Ytest\n"
      ],
      "metadata": {
        "id": "3CZKHKq4BtLq"
      },
      "execution_count": null,
      "outputs": []
    },
    {
      "cell_type": "code",
      "execution_count": null,
      "metadata": {
        "id": "UwmRZw6jQz6B",
        "outputId": "f062c225-7ee9-4930-e626-8f9291b7142e",
        "colab": {
          "base_uri": "https://localhost:8080/",
          "height": 366
        }
      },
      "outputs": [
        {
          "output_type": "error",
          "ename": "FileNotFoundError",
          "evalue": "ignored",
          "traceback": [
            "\u001b[0;31m---------------------------------------------------------------------------\u001b[0m",
            "\u001b[0;31mFileNotFoundError\u001b[0m                         Traceback (most recent call last)",
            "\u001b[0;32m<ipython-input-7-5c1c354b34fc>\u001b[0m in \u001b[0;36m<module>\u001b[0;34m()\u001b[0m\n\u001b[0;32m----> 1\u001b[0;31m \u001b[0mname_pd\u001b[0m\u001b[0;34m=\u001b[0m \u001b[0mpd\u001b[0m\u001b[0;34m.\u001b[0m\u001b[0mread_csv\u001b[0m\u001b[0;34m(\u001b[0m\u001b[0;34m\"names.csv\"\u001b[0m\u001b[0;34m,\u001b[0m \u001b[0msep\u001b[0m\u001b[0;34m=\u001b[0m\u001b[0;34m';'\u001b[0m\u001b[0;34m)\u001b[0m\u001b[0;34m\u001b[0m\u001b[0;34m\u001b[0m\u001b[0m\n\u001b[0m\u001b[1;32m      2\u001b[0m \u001b[0mtest_pd\u001b[0m\u001b[0;34m=\u001b[0m  \u001b[0mpd\u001b[0m\u001b[0;34m.\u001b[0m\u001b[0mread_csv\u001b[0m\u001b[0;34m(\u001b[0m\u001b[0;34m\"test.csv\"\u001b[0m\u001b[0;34m,\u001b[0m \u001b[0msep\u001b[0m\u001b[0;34m=\u001b[0m\u001b[0;34m';'\u001b[0m\u001b[0;34m,\u001b[0m \u001b[0mheader\u001b[0m\u001b[0;34m=\u001b[0m \u001b[0;32mNone\u001b[0m\u001b[0;34m,\u001b[0m \u001b[0mnames\u001b[0m\u001b[0;34m=\u001b[0m\u001b[0mname_pd\u001b[0m\u001b[0;34m.\u001b[0m\u001b[0mkeys\u001b[0m\u001b[0;34m(\u001b[0m\u001b[0;34m)\u001b[0m\u001b[0;34m)\u001b[0m\u001b[0;34m\u001b[0m\u001b[0;34m\u001b[0m\u001b[0m\n\u001b[1;32m      3\u001b[0m \u001b[0meval_pd\u001b[0m\u001b[0;34m=\u001b[0m  \u001b[0mpd\u001b[0m\u001b[0;34m.\u001b[0m\u001b[0mread_csv\u001b[0m\u001b[0;34m(\u001b[0m\u001b[0;34m\"eval.csv\"\u001b[0m\u001b[0;34m,\u001b[0m \u001b[0msep\u001b[0m\u001b[0;34m=\u001b[0m\u001b[0;34m';'\u001b[0m\u001b[0;34m,\u001b[0m \u001b[0mheader\u001b[0m\u001b[0;34m=\u001b[0m \u001b[0;32mNone\u001b[0m\u001b[0;34m,\u001b[0m \u001b[0mnames\u001b[0m\u001b[0;34m=\u001b[0m\u001b[0mname_pd\u001b[0m\u001b[0;34m.\u001b[0m\u001b[0mkeys\u001b[0m\u001b[0;34m(\u001b[0m\u001b[0;34m)\u001b[0m\u001b[0;34m)\u001b[0m\u001b[0;34m\u001b[0m\u001b[0;34m\u001b[0m\u001b[0m\n\u001b[1;32m      4\u001b[0m \u001b[0mtrain_pd\u001b[0m \u001b[0;34m=\u001b[0m \u001b[0mpd\u001b[0m\u001b[0;34m.\u001b[0m\u001b[0mread_csv\u001b[0m\u001b[0;34m(\u001b[0m\u001b[0;34m\"train.csv\"\u001b[0m\u001b[0;34m,\u001b[0m \u001b[0msep\u001b[0m\u001b[0;34m=\u001b[0m\u001b[0;34m';'\u001b[0m\u001b[0;34m,\u001b[0m \u001b[0mheader\u001b[0m\u001b[0;34m=\u001b[0m \u001b[0;32mNone\u001b[0m\u001b[0;34m,\u001b[0m \u001b[0mnames\u001b[0m\u001b[0;34m=\u001b[0m\u001b[0mname_pd\u001b[0m\u001b[0;34m.\u001b[0m\u001b[0mkeys\u001b[0m\u001b[0;34m(\u001b[0m\u001b[0;34m)\u001b[0m\u001b[0;34m)\u001b[0m \u001b[0;31m#chemin a changer\u001b[0m\u001b[0;34m\u001b[0m\u001b[0;34m\u001b[0m\u001b[0m\n",
            "\u001b[0;32m/usr/local/lib/python3.7/dist-packages/pandas/util/_decorators.py\u001b[0m in \u001b[0;36mwrapper\u001b[0;34m(*args, **kwargs)\u001b[0m\n\u001b[1;32m    309\u001b[0m                     \u001b[0mstacklevel\u001b[0m\u001b[0;34m=\u001b[0m\u001b[0mstacklevel\u001b[0m\u001b[0;34m,\u001b[0m\u001b[0;34m\u001b[0m\u001b[0;34m\u001b[0m\u001b[0m\n\u001b[1;32m    310\u001b[0m                 )\n\u001b[0;32m--> 311\u001b[0;31m             \u001b[0;32mreturn\u001b[0m \u001b[0mfunc\u001b[0m\u001b[0;34m(\u001b[0m\u001b[0;34m*\u001b[0m\u001b[0margs\u001b[0m\u001b[0;34m,\u001b[0m \u001b[0;34m**\u001b[0m\u001b[0mkwargs\u001b[0m\u001b[0;34m)\u001b[0m\u001b[0;34m\u001b[0m\u001b[0;34m\u001b[0m\u001b[0m\n\u001b[0m\u001b[1;32m    312\u001b[0m \u001b[0;34m\u001b[0m\u001b[0m\n\u001b[1;32m    313\u001b[0m         \u001b[0;32mreturn\u001b[0m \u001b[0mwrapper\u001b[0m\u001b[0;34m\u001b[0m\u001b[0;34m\u001b[0m\u001b[0m\n",
            "\u001b[0;32m/usr/local/lib/python3.7/dist-packages/pandas/io/parsers/readers.py\u001b[0m in \u001b[0;36mread_csv\u001b[0;34m(filepath_or_buffer, sep, delimiter, header, names, index_col, usecols, squeeze, prefix, mangle_dupe_cols, dtype, engine, converters, true_values, false_values, skipinitialspace, skiprows, skipfooter, nrows, na_values, keep_default_na, na_filter, verbose, skip_blank_lines, parse_dates, infer_datetime_format, keep_date_col, date_parser, dayfirst, cache_dates, iterator, chunksize, compression, thousands, decimal, lineterminator, quotechar, quoting, doublequote, escapechar, comment, encoding, encoding_errors, dialect, error_bad_lines, warn_bad_lines, on_bad_lines, delim_whitespace, low_memory, memory_map, float_precision, storage_options)\u001b[0m\n\u001b[1;32m    584\u001b[0m     \u001b[0mkwds\u001b[0m\u001b[0;34m.\u001b[0m\u001b[0mupdate\u001b[0m\u001b[0;34m(\u001b[0m\u001b[0mkwds_defaults\u001b[0m\u001b[0;34m)\u001b[0m\u001b[0;34m\u001b[0m\u001b[0;34m\u001b[0m\u001b[0m\n\u001b[1;32m    585\u001b[0m \u001b[0;34m\u001b[0m\u001b[0m\n\u001b[0;32m--> 586\u001b[0;31m     \u001b[0;32mreturn\u001b[0m \u001b[0m_read\u001b[0m\u001b[0;34m(\u001b[0m\u001b[0mfilepath_or_buffer\u001b[0m\u001b[0;34m,\u001b[0m \u001b[0mkwds\u001b[0m\u001b[0;34m)\u001b[0m\u001b[0;34m\u001b[0m\u001b[0;34m\u001b[0m\u001b[0m\n\u001b[0m\u001b[1;32m    587\u001b[0m \u001b[0;34m\u001b[0m\u001b[0m\n\u001b[1;32m    588\u001b[0m \u001b[0;34m\u001b[0m\u001b[0m\n",
            "\u001b[0;32m/usr/local/lib/python3.7/dist-packages/pandas/io/parsers/readers.py\u001b[0m in \u001b[0;36m_read\u001b[0;34m(filepath_or_buffer, kwds)\u001b[0m\n\u001b[1;32m    480\u001b[0m \u001b[0;34m\u001b[0m\u001b[0m\n\u001b[1;32m    481\u001b[0m     \u001b[0;31m# Create the parser.\u001b[0m\u001b[0;34m\u001b[0m\u001b[0;34m\u001b[0m\u001b[0;34m\u001b[0m\u001b[0m\n\u001b[0;32m--> 482\u001b[0;31m     \u001b[0mparser\u001b[0m \u001b[0;34m=\u001b[0m \u001b[0mTextFileReader\u001b[0m\u001b[0;34m(\u001b[0m\u001b[0mfilepath_or_buffer\u001b[0m\u001b[0;34m,\u001b[0m \u001b[0;34m**\u001b[0m\u001b[0mkwds\u001b[0m\u001b[0;34m)\u001b[0m\u001b[0;34m\u001b[0m\u001b[0;34m\u001b[0m\u001b[0m\n\u001b[0m\u001b[1;32m    483\u001b[0m \u001b[0;34m\u001b[0m\u001b[0m\n\u001b[1;32m    484\u001b[0m     \u001b[0;32mif\u001b[0m \u001b[0mchunksize\u001b[0m \u001b[0;32mor\u001b[0m \u001b[0miterator\u001b[0m\u001b[0;34m:\u001b[0m\u001b[0;34m\u001b[0m\u001b[0;34m\u001b[0m\u001b[0m\n",
            "\u001b[0;32m/usr/local/lib/python3.7/dist-packages/pandas/io/parsers/readers.py\u001b[0m in \u001b[0;36m__init__\u001b[0;34m(self, f, engine, **kwds)\u001b[0m\n\u001b[1;32m    809\u001b[0m             \u001b[0mself\u001b[0m\u001b[0;34m.\u001b[0m\u001b[0moptions\u001b[0m\u001b[0;34m[\u001b[0m\u001b[0;34m\"has_index_names\"\u001b[0m\u001b[0;34m]\u001b[0m \u001b[0;34m=\u001b[0m \u001b[0mkwds\u001b[0m\u001b[0;34m[\u001b[0m\u001b[0;34m\"has_index_names\"\u001b[0m\u001b[0;34m]\u001b[0m\u001b[0;34m\u001b[0m\u001b[0;34m\u001b[0m\u001b[0m\n\u001b[1;32m    810\u001b[0m \u001b[0;34m\u001b[0m\u001b[0m\n\u001b[0;32m--> 811\u001b[0;31m         \u001b[0mself\u001b[0m\u001b[0;34m.\u001b[0m\u001b[0m_engine\u001b[0m \u001b[0;34m=\u001b[0m \u001b[0mself\u001b[0m\u001b[0;34m.\u001b[0m\u001b[0m_make_engine\u001b[0m\u001b[0;34m(\u001b[0m\u001b[0mself\u001b[0m\u001b[0;34m.\u001b[0m\u001b[0mengine\u001b[0m\u001b[0;34m)\u001b[0m\u001b[0;34m\u001b[0m\u001b[0;34m\u001b[0m\u001b[0m\n\u001b[0m\u001b[1;32m    812\u001b[0m \u001b[0;34m\u001b[0m\u001b[0m\n\u001b[1;32m    813\u001b[0m     \u001b[0;32mdef\u001b[0m \u001b[0mclose\u001b[0m\u001b[0;34m(\u001b[0m\u001b[0mself\u001b[0m\u001b[0;34m)\u001b[0m\u001b[0;34m:\u001b[0m\u001b[0;34m\u001b[0m\u001b[0;34m\u001b[0m\u001b[0m\n",
            "\u001b[0;32m/usr/local/lib/python3.7/dist-packages/pandas/io/parsers/readers.py\u001b[0m in \u001b[0;36m_make_engine\u001b[0;34m(self, engine)\u001b[0m\n\u001b[1;32m   1038\u001b[0m             )\n\u001b[1;32m   1039\u001b[0m         \u001b[0;31m# error: Too many arguments for \"ParserBase\"\u001b[0m\u001b[0;34m\u001b[0m\u001b[0;34m\u001b[0m\u001b[0;34m\u001b[0m\u001b[0m\n\u001b[0;32m-> 1040\u001b[0;31m         \u001b[0;32mreturn\u001b[0m \u001b[0mmapping\u001b[0m\u001b[0;34m[\u001b[0m\u001b[0mengine\u001b[0m\u001b[0;34m]\u001b[0m\u001b[0;34m(\u001b[0m\u001b[0mself\u001b[0m\u001b[0;34m.\u001b[0m\u001b[0mf\u001b[0m\u001b[0;34m,\u001b[0m \u001b[0;34m**\u001b[0m\u001b[0mself\u001b[0m\u001b[0;34m.\u001b[0m\u001b[0moptions\u001b[0m\u001b[0;34m)\u001b[0m  \u001b[0;31m# type: ignore[call-arg]\u001b[0m\u001b[0;34m\u001b[0m\u001b[0;34m\u001b[0m\u001b[0m\n\u001b[0m\u001b[1;32m   1041\u001b[0m \u001b[0;34m\u001b[0m\u001b[0m\n\u001b[1;32m   1042\u001b[0m     \u001b[0;32mdef\u001b[0m \u001b[0m_failover_to_python\u001b[0m\u001b[0;34m(\u001b[0m\u001b[0mself\u001b[0m\u001b[0;34m)\u001b[0m\u001b[0;34m:\u001b[0m\u001b[0;34m\u001b[0m\u001b[0;34m\u001b[0m\u001b[0m\n",
            "\u001b[0;32m/usr/local/lib/python3.7/dist-packages/pandas/io/parsers/c_parser_wrapper.py\u001b[0m in \u001b[0;36m__init__\u001b[0;34m(self, src, **kwds)\u001b[0m\n\u001b[1;32m     49\u001b[0m \u001b[0;34m\u001b[0m\u001b[0m\n\u001b[1;32m     50\u001b[0m         \u001b[0;31m# open handles\u001b[0m\u001b[0;34m\u001b[0m\u001b[0;34m\u001b[0m\u001b[0;34m\u001b[0m\u001b[0m\n\u001b[0;32m---> 51\u001b[0;31m         \u001b[0mself\u001b[0m\u001b[0;34m.\u001b[0m\u001b[0m_open_handles\u001b[0m\u001b[0;34m(\u001b[0m\u001b[0msrc\u001b[0m\u001b[0;34m,\u001b[0m \u001b[0mkwds\u001b[0m\u001b[0;34m)\u001b[0m\u001b[0;34m\u001b[0m\u001b[0;34m\u001b[0m\u001b[0m\n\u001b[0m\u001b[1;32m     52\u001b[0m         \u001b[0;32massert\u001b[0m \u001b[0mself\u001b[0m\u001b[0;34m.\u001b[0m\u001b[0mhandles\u001b[0m \u001b[0;32mis\u001b[0m \u001b[0;32mnot\u001b[0m \u001b[0;32mNone\u001b[0m\u001b[0;34m\u001b[0m\u001b[0;34m\u001b[0m\u001b[0m\n\u001b[1;32m     53\u001b[0m \u001b[0;34m\u001b[0m\u001b[0m\n",
            "\u001b[0;32m/usr/local/lib/python3.7/dist-packages/pandas/io/parsers/base_parser.py\u001b[0m in \u001b[0;36m_open_handles\u001b[0;34m(self, src, kwds)\u001b[0m\n\u001b[1;32m    227\u001b[0m             \u001b[0mmemory_map\u001b[0m\u001b[0;34m=\u001b[0m\u001b[0mkwds\u001b[0m\u001b[0;34m.\u001b[0m\u001b[0mget\u001b[0m\u001b[0;34m(\u001b[0m\u001b[0;34m\"memory_map\"\u001b[0m\u001b[0;34m,\u001b[0m \u001b[0;32mFalse\u001b[0m\u001b[0;34m)\u001b[0m\u001b[0;34m,\u001b[0m\u001b[0;34m\u001b[0m\u001b[0;34m\u001b[0m\u001b[0m\n\u001b[1;32m    228\u001b[0m             \u001b[0mstorage_options\u001b[0m\u001b[0;34m=\u001b[0m\u001b[0mkwds\u001b[0m\u001b[0;34m.\u001b[0m\u001b[0mget\u001b[0m\u001b[0;34m(\u001b[0m\u001b[0;34m\"storage_options\"\u001b[0m\u001b[0;34m,\u001b[0m \u001b[0;32mNone\u001b[0m\u001b[0;34m)\u001b[0m\u001b[0;34m,\u001b[0m\u001b[0;34m\u001b[0m\u001b[0;34m\u001b[0m\u001b[0m\n\u001b[0;32m--> 229\u001b[0;31m             \u001b[0merrors\u001b[0m\u001b[0;34m=\u001b[0m\u001b[0mkwds\u001b[0m\u001b[0;34m.\u001b[0m\u001b[0mget\u001b[0m\u001b[0;34m(\u001b[0m\u001b[0;34m\"encoding_errors\"\u001b[0m\u001b[0;34m,\u001b[0m \u001b[0;34m\"strict\"\u001b[0m\u001b[0;34m)\u001b[0m\u001b[0;34m,\u001b[0m\u001b[0;34m\u001b[0m\u001b[0;34m\u001b[0m\u001b[0m\n\u001b[0m\u001b[1;32m    230\u001b[0m         )\n\u001b[1;32m    231\u001b[0m \u001b[0;34m\u001b[0m\u001b[0m\n",
            "\u001b[0;32m/usr/local/lib/python3.7/dist-packages/pandas/io/common.py\u001b[0m in \u001b[0;36mget_handle\u001b[0;34m(path_or_buf, mode, encoding, compression, memory_map, is_text, errors, storage_options)\u001b[0m\n\u001b[1;32m    705\u001b[0m                 \u001b[0mencoding\u001b[0m\u001b[0;34m=\u001b[0m\u001b[0mioargs\u001b[0m\u001b[0;34m.\u001b[0m\u001b[0mencoding\u001b[0m\u001b[0;34m,\u001b[0m\u001b[0;34m\u001b[0m\u001b[0;34m\u001b[0m\u001b[0m\n\u001b[1;32m    706\u001b[0m                 \u001b[0merrors\u001b[0m\u001b[0;34m=\u001b[0m\u001b[0merrors\u001b[0m\u001b[0;34m,\u001b[0m\u001b[0;34m\u001b[0m\u001b[0;34m\u001b[0m\u001b[0m\n\u001b[0;32m--> 707\u001b[0;31m                 \u001b[0mnewline\u001b[0m\u001b[0;34m=\u001b[0m\u001b[0;34m\"\"\u001b[0m\u001b[0;34m,\u001b[0m\u001b[0;34m\u001b[0m\u001b[0;34m\u001b[0m\u001b[0m\n\u001b[0m\u001b[1;32m    708\u001b[0m             )\n\u001b[1;32m    709\u001b[0m         \u001b[0;32melse\u001b[0m\u001b[0;34m:\u001b[0m\u001b[0;34m\u001b[0m\u001b[0;34m\u001b[0m\u001b[0m\n",
            "\u001b[0;31mFileNotFoundError\u001b[0m: [Errno 2] No such file or directory: 'names.csv'"
          ]
        }
      ],
      "source": [
        "name_pd= pd.read_csv(\"names.csv\", sep=';')\n",
        "test_pd=  pd.read_csv(\"test.csv\", sep=';', header= None, names=name_pd.keys())\n",
        "eval_pd=  pd.read_csv(\"eval.csv\", sep=';', header= None, names=name_pd.keys())\n",
        "train_pd = pd.read_csv(\"train.csv\", sep=';', header= None, names=name_pd.keys()) #chemin a changer"
      ]
    },
    {
      "cell_type": "code",
      "execution_count": null,
      "metadata": {
        "colab": {
          "base_uri": "https://localhost:8080/",
          "height": 235
        },
        "id": "8Qj-GwYVV-Vw",
        "outputId": "d7ce1440-484b-41c9-fb6f-cc622ef11d5d"
      },
      "outputs": [
        {
          "output_type": "execute_result",
          "data": {
            "text/plain": [
              "   ident  A001  A002  A003  A004  A005  A006  A007  A008  A009  ...  A776  \\\n",
              "0  90001     0     0     0     0     0     0     0     0     0  ...     0   \n",
              "1  90002     0     0     0     0     0     0     0     0     0  ...     0   \n",
              "2  90003     0     0     0     0     0     0     0     0     0  ...     0   \n",
              "3  90004     0     0     0     0     0     0     0     0     0  ...     0   \n",
              "4  90005     0     0     0     0     0     0     0     0     0  ...     0   \n",
              "\n",
              "   A777  A778  A779  A780  A781  A782  A783  A784  label  \n",
              "0     0     0     0     0     0     0     0     0      0  \n",
              "1     0     0     0     0     0     0     0     0      0  \n",
              "2     0     0     0     0     0     0     0     0      0  \n",
              "3     0     0     0     0     0     0     0     0      0  \n",
              "4     0     0     0     0     0     0     0     0      0  \n",
              "\n",
              "[5 rows x 786 columns]"
            ],
            "text/html": [
              "\n",
              "  <div id=\"df-f6c3688c-844f-416b-b32d-270d31a3e14e\">\n",
              "    <div class=\"colab-df-container\">\n",
              "      <div>\n",
              "<style scoped>\n",
              "    .dataframe tbody tr th:only-of-type {\n",
              "        vertical-align: middle;\n",
              "    }\n",
              "\n",
              "    .dataframe tbody tr th {\n",
              "        vertical-align: top;\n",
              "    }\n",
              "\n",
              "    .dataframe thead th {\n",
              "        text-align: right;\n",
              "    }\n",
              "</style>\n",
              "<table border=\"1\" class=\"dataframe\">\n",
              "  <thead>\n",
              "    <tr style=\"text-align: right;\">\n",
              "      <th></th>\n",
              "      <th>ident</th>\n",
              "      <th>A001</th>\n",
              "      <th>A002</th>\n",
              "      <th>A003</th>\n",
              "      <th>A004</th>\n",
              "      <th>A005</th>\n",
              "      <th>A006</th>\n",
              "      <th>A007</th>\n",
              "      <th>A008</th>\n",
              "      <th>A009</th>\n",
              "      <th>...</th>\n",
              "      <th>A776</th>\n",
              "      <th>A777</th>\n",
              "      <th>A778</th>\n",
              "      <th>A779</th>\n",
              "      <th>A780</th>\n",
              "      <th>A781</th>\n",
              "      <th>A782</th>\n",
              "      <th>A783</th>\n",
              "      <th>A784</th>\n",
              "      <th>label</th>\n",
              "    </tr>\n",
              "  </thead>\n",
              "  <tbody>\n",
              "    <tr>\n",
              "      <th>0</th>\n",
              "      <td>90001</td>\n",
              "      <td>0</td>\n",
              "      <td>0</td>\n",
              "      <td>0</td>\n",
              "      <td>0</td>\n",
              "      <td>0</td>\n",
              "      <td>0</td>\n",
              "      <td>0</td>\n",
              "      <td>0</td>\n",
              "      <td>0</td>\n",
              "      <td>...</td>\n",
              "      <td>0</td>\n",
              "      <td>0</td>\n",
              "      <td>0</td>\n",
              "      <td>0</td>\n",
              "      <td>0</td>\n",
              "      <td>0</td>\n",
              "      <td>0</td>\n",
              "      <td>0</td>\n",
              "      <td>0</td>\n",
              "      <td>0</td>\n",
              "    </tr>\n",
              "    <tr>\n",
              "      <th>1</th>\n",
              "      <td>90002</td>\n",
              "      <td>0</td>\n",
              "      <td>0</td>\n",
              "      <td>0</td>\n",
              "      <td>0</td>\n",
              "      <td>0</td>\n",
              "      <td>0</td>\n",
              "      <td>0</td>\n",
              "      <td>0</td>\n",
              "      <td>0</td>\n",
              "      <td>...</td>\n",
              "      <td>0</td>\n",
              "      <td>0</td>\n",
              "      <td>0</td>\n",
              "      <td>0</td>\n",
              "      <td>0</td>\n",
              "      <td>0</td>\n",
              "      <td>0</td>\n",
              "      <td>0</td>\n",
              "      <td>0</td>\n",
              "      <td>0</td>\n",
              "    </tr>\n",
              "    <tr>\n",
              "      <th>2</th>\n",
              "      <td>90003</td>\n",
              "      <td>0</td>\n",
              "      <td>0</td>\n",
              "      <td>0</td>\n",
              "      <td>0</td>\n",
              "      <td>0</td>\n",
              "      <td>0</td>\n",
              "      <td>0</td>\n",
              "      <td>0</td>\n",
              "      <td>0</td>\n",
              "      <td>...</td>\n",
              "      <td>0</td>\n",
              "      <td>0</td>\n",
              "      <td>0</td>\n",
              "      <td>0</td>\n",
              "      <td>0</td>\n",
              "      <td>0</td>\n",
              "      <td>0</td>\n",
              "      <td>0</td>\n",
              "      <td>0</td>\n",
              "      <td>0</td>\n",
              "    </tr>\n",
              "    <tr>\n",
              "      <th>3</th>\n",
              "      <td>90004</td>\n",
              "      <td>0</td>\n",
              "      <td>0</td>\n",
              "      <td>0</td>\n",
              "      <td>0</td>\n",
              "      <td>0</td>\n",
              "      <td>0</td>\n",
              "      <td>0</td>\n",
              "      <td>0</td>\n",
              "      <td>0</td>\n",
              "      <td>...</td>\n",
              "      <td>0</td>\n",
              "      <td>0</td>\n",
              "      <td>0</td>\n",
              "      <td>0</td>\n",
              "      <td>0</td>\n",
              "      <td>0</td>\n",
              "      <td>0</td>\n",
              "      <td>0</td>\n",
              "      <td>0</td>\n",
              "      <td>0</td>\n",
              "    </tr>\n",
              "    <tr>\n",
              "      <th>4</th>\n",
              "      <td>90005</td>\n",
              "      <td>0</td>\n",
              "      <td>0</td>\n",
              "      <td>0</td>\n",
              "      <td>0</td>\n",
              "      <td>0</td>\n",
              "      <td>0</td>\n",
              "      <td>0</td>\n",
              "      <td>0</td>\n",
              "      <td>0</td>\n",
              "      <td>...</td>\n",
              "      <td>0</td>\n",
              "      <td>0</td>\n",
              "      <td>0</td>\n",
              "      <td>0</td>\n",
              "      <td>0</td>\n",
              "      <td>0</td>\n",
              "      <td>0</td>\n",
              "      <td>0</td>\n",
              "      <td>0</td>\n",
              "      <td>0</td>\n",
              "    </tr>\n",
              "  </tbody>\n",
              "</table>\n",
              "<p>5 rows × 786 columns</p>\n",
              "</div>\n",
              "      <button class=\"colab-df-convert\" onclick=\"convertToInteractive('df-f6c3688c-844f-416b-b32d-270d31a3e14e')\"\n",
              "              title=\"Convert this dataframe to an interactive table.\"\n",
              "              style=\"display:none;\">\n",
              "        \n",
              "  <svg xmlns=\"http://www.w3.org/2000/svg\" height=\"24px\"viewBox=\"0 0 24 24\"\n",
              "       width=\"24px\">\n",
              "    <path d=\"M0 0h24v24H0V0z\" fill=\"none\"/>\n",
              "    <path d=\"M18.56 5.44l.94 2.06.94-2.06 2.06-.94-2.06-.94-.94-2.06-.94 2.06-2.06.94zm-11 1L8.5 8.5l.94-2.06 2.06-.94-2.06-.94L8.5 2.5l-.94 2.06-2.06.94zm10 10l.94 2.06.94-2.06 2.06-.94-2.06-.94-.94-2.06-.94 2.06-2.06.94z\"/><path d=\"M17.41 7.96l-1.37-1.37c-.4-.4-.92-.59-1.43-.59-.52 0-1.04.2-1.43.59L10.3 9.45l-7.72 7.72c-.78.78-.78 2.05 0 2.83L4 21.41c.39.39.9.59 1.41.59.51 0 1.02-.2 1.41-.59l7.78-7.78 2.81-2.81c.8-.78.8-2.07 0-2.86zM5.41 20L4 18.59l7.72-7.72 1.47 1.35L5.41 20z\"/>\n",
              "  </svg>\n",
              "      </button>\n",
              "      \n",
              "  <style>\n",
              "    .colab-df-container {\n",
              "      display:flex;\n",
              "      flex-wrap:wrap;\n",
              "      gap: 12px;\n",
              "    }\n",
              "\n",
              "    .colab-df-convert {\n",
              "      background-color: #E8F0FE;\n",
              "      border: none;\n",
              "      border-radius: 50%;\n",
              "      cursor: pointer;\n",
              "      display: none;\n",
              "      fill: #1967D2;\n",
              "      height: 32px;\n",
              "      padding: 0 0 0 0;\n",
              "      width: 32px;\n",
              "    }\n",
              "\n",
              "    .colab-df-convert:hover {\n",
              "      background-color: #E2EBFA;\n",
              "      box-shadow: 0px 1px 2px rgba(60, 64, 67, 0.3), 0px 1px 3px 1px rgba(60, 64, 67, 0.15);\n",
              "      fill: #174EA6;\n",
              "    }\n",
              "\n",
              "    [theme=dark] .colab-df-convert {\n",
              "      background-color: #3B4455;\n",
              "      fill: #D2E3FC;\n",
              "    }\n",
              "\n",
              "    [theme=dark] .colab-df-convert:hover {\n",
              "      background-color: #434B5C;\n",
              "      box-shadow: 0px 1px 3px 1px rgba(0, 0, 0, 0.15);\n",
              "      filter: drop-shadow(0px 1px 2px rgba(0, 0, 0, 0.3));\n",
              "      fill: #FFFFFF;\n",
              "    }\n",
              "  </style>\n",
              "\n",
              "      <script>\n",
              "        const buttonEl =\n",
              "          document.querySelector('#df-f6c3688c-844f-416b-b32d-270d31a3e14e button.colab-df-convert');\n",
              "        buttonEl.style.display =\n",
              "          google.colab.kernel.accessAllowed ? 'block' : 'none';\n",
              "\n",
              "        async function convertToInteractive(key) {\n",
              "          const element = document.querySelector('#df-f6c3688c-844f-416b-b32d-270d31a3e14e');\n",
              "          const dataTable =\n",
              "            await google.colab.kernel.invokeFunction('convertToInteractive',\n",
              "                                                     [key], {});\n",
              "          if (!dataTable) return;\n",
              "\n",
              "          const docLinkHtml = 'Like what you see? Visit the ' +\n",
              "            '<a target=\"_blank\" href=https://colab.research.google.com/notebooks/data_table.ipynb>data table notebook</a>'\n",
              "            + ' to learn more about interactive tables.';\n",
              "          element.innerHTML = '';\n",
              "          dataTable['output_type'] = 'display_data';\n",
              "          await google.colab.output.renderOutput(dataTable, element);\n",
              "          const docLink = document.createElement('div');\n",
              "          docLink.innerHTML = docLinkHtml;\n",
              "          element.appendChild(docLink);\n",
              "        }\n",
              "      </script>\n",
              "    </div>\n",
              "  </div>\n",
              "  "
            ]
          },
          "metadata": {},
          "execution_count": 71
        }
      ],
      "source": [
        "eval_pd.head()                  "
      ]
    },
    {
      "cell_type": "code",
      "execution_count": null,
      "metadata": {
        "id": "zFCcd3dzROAb"
      },
      "outputs": [],
      "source": [
        "#Construction du dataset et labelset pour faire le train du classifieur \n",
        "datasetTrain= []\n",
        "labelsetTrain=[]\n",
        "l, c = train_pd.shape\n",
        "for i in range(l):\n",
        "    datasetTrain.append(np.array(train_pd.loc[i].tolist()[1:c-1]))\n",
        "    labelsetTrain.append(train_pd.loc[i].tolist()[c-1])"
      ]
    },
    {
      "cell_type": "markdown",
      "metadata": {
        "id": "AwnwmC2Wi7GQ"
      },
      "source": [
        "### Experimentations Classifieur KNN\n"
      ]
    },
    {
      "cell_type": "code",
      "execution_count": null,
      "metadata": {
        "colab": {
          "base_uri": "https://localhost:8080/"
        },
        "id": "E9WI5GqjeNUD",
        "outputId": "336ee666-4183-4aad-9bff-8463bed83ea7"
      },
      "outputs": [
        {
          "output_type": "stream",
          "name": "stdout",
          "text": [
            "Accuracy pour  1 : 1.0\n",
            "Accuracy pour  3 : 0.968\n",
            "Accuracy pour  5 : 0.965\n",
            "Accuracy pour  7 : 0.967\n",
            "Accuracy pour  9 : 0.962\n",
            "Accuracy pour  11 : 0.957\n",
            "Accuracy pour  13 : 0.955\n",
            "Accuracy pour  15 : 0.951\n",
            "Accuracy pour  17 : 0.948\n",
            "Accuracy pour  19 : 0.951\n",
            "Accuracy pour  21 : 0.949\n",
            "Accuracy pour  23 : 0.944\n",
            "Accuracy pour  25 : 0.937\n",
            "Accuracy pour  27 : 0.937\n",
            "Accuracy pour  29 : 0.935\n",
            "Accuracy pour  31 : 0.933\n",
            "Accuracy pour  33 : 0.932\n",
            "Accuracy pour  35 : 0.925\n",
            "Accuracy pour  37 : 0.927\n",
            "Accuracy pour  39 : 0.924\n",
            "Accuracy pour  41 : 0.925\n",
            "Accuracy pour  43 : 0.922\n",
            "Accuracy pour  45 : 0.925\n",
            "Accuracy pour  47 : 0.924\n",
            "Accuracy pour  49 : 0.924\n"
          ]
        }
      ],
      "source": [
        "# on stocke les accuracies dans une liste :\n",
        "accuracies = []\n",
        "\n",
        "# seuil max des valeurs de k à regarder:\n",
        "seuil_k = len(datasetTrain) // 20\n",
        "\n",
        "# toutes les valeurs de k à regarder:\n",
        "valeurs_k = [k for k in range(1,seuil_k,2)]\n",
        "\n",
        "for i in valeurs_k:\n",
        "    classifierKNN2 = ClassifierKNN(784,i)\n",
        "    classifierKNN2.train(datasetTrain, labelsetTrain)\n",
        "    accuracies.append(classifierKNN2.accuracy(datasetTrain, labelsetTrain))\n",
        "\n",
        "# ---------------------------------------------\n",
        "for i in range(0,len(valeurs_k)):\n",
        "    print(\"Accuracy pour \",valeurs_k[i],\":\",accuracies[i])\n",
        "    "
      ]
    },
    {
      "cell_type": "code",
      "execution_count": null,
      "metadata": {
        "colab": {
          "base_uri": "https://localhost:8080/",
          "height": 279
        },
        "id": "AC9mW3xojEKP",
        "outputId": "ba97b00d-15f9-4999-ff8c-71e6658fa874"
      },
      "outputs": [
        {
          "output_type": "display_data",
          "data": {
            "text/plain": [
              "<Figure size 432x288 with 1 Axes>"
            ],
            "image/png": "[encoded data removed]"
          },
          "metadata": {
            "needs_background": "light"
          }
        }
      ],
      "source": [
        "#representation graphique variaition de l'accuracy en fonction de k\n",
        "plt.plot(valeurs_k, accuracies)  \n",
        "plt.ylabel('Accuracy')\n",
        "plt.xlabel(\"k\")\n",
        "plt.show()"
      ]
    },
    {
      "cell_type": "code",
      "execution_count": null,
      "metadata": {
        "id": "e8_dFehdpN2l"
      },
      "outputs": [],
      "source": [
        "#Evaluation du classifieur en utilisant le data set test_pd \n",
        "dataset2=[]\n",
        "labelset2=[]\n",
        "for i in range(l):\n",
        "    dataset2.append(np.array(test_pd.loc[i].tolist()[1:c-1]))\n",
        "    labelset2.append(test_pd.loc[i].tolist()[c-1])"
      ]
    },
    {
      "cell_type": "code",
      "execution_count": null,
      "metadata": {
        "colab": {
          "base_uri": "https://localhost:8080/",
          "height": 255
        },
        "id": "bf6Gh-NvjfYS",
        "outputId": "35cf76a1-5938-4b8c-e17d-3762c4d46a0f",
        "scrolled": true
      },
      "outputs": [
        {
          "output_type": "error",
          "ename": "NameError",
          "evalue": "ignored",
          "traceback": [
            "\u001b[0;31m---------------------------------------------------------------------------\u001b[0m",
            "\u001b[0;31mNameError\u001b[0m                                 Traceback (most recent call last)",
            "\u001b[0;32m<ipython-input-8-f2d69112e4f0>\u001b[0m in \u001b[0;36m<module>\u001b[0;34m()\u001b[0m\n\u001b[1;32m      1\u001b[0m \u001b[0mclassifieurKNNTest\u001b[0m\u001b[0;34m=\u001b[0m \u001b[0mClassifierKNN\u001b[0m\u001b[0;34m(\u001b[0m\u001b[0;36m784\u001b[0m\u001b[0;34m,\u001b[0m \u001b[0;36m3\u001b[0m\u001b[0;34m)\u001b[0m\u001b[0;34m\u001b[0m\u001b[0;34m\u001b[0m\u001b[0m\n\u001b[1;32m      2\u001b[0m \u001b[0;34m\u001b[0m\u001b[0m\n\u001b[0;32m----> 3\u001b[0;31m \u001b[0mclassifieurKNNTest\u001b[0m\u001b[0;34m.\u001b[0m\u001b[0mtrain\u001b[0m\u001b[0;34m(\u001b[0m\u001b[0mdatasetTrain\u001b[0m\u001b[0;34m,\u001b[0m \u001b[0mlabelsetTrain\u001b[0m\u001b[0;34m)\u001b[0m \u001b[0;31m#train du classifuer avec k=3 uniquement\u001b[0m\u001b[0;34m\u001b[0m\u001b[0;34m\u001b[0m\u001b[0m\n\u001b[0m\u001b[1;32m      4\u001b[0m \u001b[0;34m\u001b[0m\u001b[0m\n\u001b[1;32m      5\u001b[0m \u001b[0;32mfor\u001b[0m \u001b[0mi\u001b[0m \u001b[0;32min\u001b[0m \u001b[0mrange\u001b[0m\u001b[0;34m(\u001b[0m\u001b[0;36m900\u001b[0m\u001b[0;34m,\u001b[0m\u001b[0;36m910\u001b[0m\u001b[0;34m)\u001b[0m\u001b[0;34m:\u001b[0m\u001b[0;34m\u001b[0m\u001b[0;34m\u001b[0m\u001b[0m\n",
            "\u001b[0;31mNameError\u001b[0m: name 'datasetTrain' is not defined"
          ]
        }
      ],
      "source": [
        "classifieurKNNTest= ClassifierKNN(784, 3) \n",
        "\n",
        "classifieurKNNTest.train(datasetTrain, labelsetTrain) #train du classifuer avec k=3 uniquement \n",
        "\n",
        "for i in range(900,910):\n",
        "    print(\"prediction: \", classifieurKNNTest.predict(dataset2[i:]), \"valeure label: \",labelset2[i] )\n",
        "\n",
        "# Affichage du taux de bonne classification    \n",
        "print(\"Taux de bonne classification sur le dataset: \", classifieurKNNTest.accuracy(dataset2,labelset2))   "
      ]
    },
    {
      "cell_type": "code",
      "execution_count": null,
      "metadata": {
        "colab": {
          "base_uri": "https://localhost:8080/",
          "height": 265
        },
        "id": "VL4F_kgpjEKT",
        "outputId": "386a6b10-6ef2-4393-c74c-a641177ec05a"
      },
      "outputs": [
        {
          "output_type": "display_data",
          "data": {
            "text/plain": [
              "<Figure size 432x288 with 1 Axes>"
            ],
            "image/png": "[encoded data removed]"
          },
          "metadata": {
            "needs_background": "light"
          }
        }
      ],
      "source": [
        "#PB : ne fonctionne pas !!!\n",
        "#representations graphiques 2D\n",
        "plot2DSet(np.array(dataset2),np.array(labelset2))  \n",
        "# plot_frontiere(np.array(dataset2),np.array(labelset2),classifieurKNNTest)\n",
        "plot2DSet(np.array(dataset2),np.array(labelset2))  "
      ]
    },
    {
      "cell_type": "markdown",
      "metadata": {
        "id": "u2lI7_i1jEKU"
      },
      "source": [
        "### Expérimentations Perceptron"
      ]
    },
    {
      "cell_type": "code",
      "execution_count": null,
      "metadata": {
        "colab": {
          "base_uri": "https://localhost:8080/"
        },
        "id": "G73M2Z9IjEKU",
        "outputId": "897e7b14-3de0-48bc-eb82-33c02a5f0f70"
      },
      "outputs": [
        {
          "output_type": "stream",
          "name": "stdout",
          "text": [
            "Accuracy pour l =  0.01  :  0.871\n",
            "Accuracy pour l =  0.03  :  0.873\n",
            "Accuracy pour l =  0.049999999999999996  :  0.866\n",
            "Accuracy pour l =  0.06999999999999999  :  0.867\n",
            "Accuracy pour l =  0.08999999999999998  :  0.865\n",
            "Accuracy pour l =  0.10999999999999997  :  0.864\n",
            "Accuracy pour l =  0.12999999999999998  :  0.866\n",
            "Accuracy pour l =  0.15  :  0.871\n",
            "Accuracy pour l =  0.16999999999999998  :  0.869\n",
            "Accuracy pour l =  0.18999999999999997  :  0.87\n",
            "Accuracy pour l =  0.20999999999999996  :  0.867\n",
            "Accuracy pour l =  0.22999999999999998  :  0.874\n",
            "Accuracy pour l =  0.24999999999999997  :  0.882\n",
            "Accuracy pour l =  0.26999999999999996  :  0.875\n",
            "Accuracy pour l =  0.29  :  0.865\n",
            "Accuracy pour l =  0.30999999999999994  :  0.871\n",
            "Accuracy pour l =  0.32999999999999996  :  0.866\n",
            "Accuracy pour l =  0.35  :  0.868\n",
            "Accuracy pour l =  0.36999999999999994  :  0.866\n",
            "Accuracy pour l =  0.38999999999999996  :  0.865\n",
            "Accuracy pour l =  0.4099999999999999  :  0.872\n",
            "Accuracy pour l =  0.42999999999999994  :  0.87\n",
            "Accuracy pour l =  0.44999999999999996  :  0.867\n",
            "Accuracy pour l =  0.4699999999999999  :  0.867\n",
            "Accuracy pour l =  0.48999999999999994  :  0.861\n",
            "Accuracy pour l =  0.5099999999999999  :  0.868\n",
            "Accuracy pour l =  0.5299999999999999  :  0.868\n",
            "Accuracy pour l =  0.5499999999999999  :  0.871\n",
            "Accuracy pour l =  0.57  :  0.87\n",
            "Accuracy pour l =  0.59  :  0.869\n",
            "Accuracy pour l =  0.6099999999999999  :  0.867\n",
            "Accuracy pour l =  0.6299999999999999  :  0.867\n",
            "Accuracy pour l =  0.6499999999999999  :  0.87\n",
            "Accuracy pour l =  0.6699999999999999  :  0.868\n",
            "Accuracy pour l =  0.69  :  0.862\n",
            "Accuracy pour l =  0.7099999999999999  :  0.864\n",
            "Accuracy pour l =  0.7299999999999999  :  0.874\n",
            "Accuracy pour l =  0.7499999999999999  :  0.867\n",
            "Accuracy pour l =  0.7699999999999999  :  0.868\n",
            "Accuracy pour l =  0.7899999999999999  :  0.866\n",
            "Accuracy pour l =  0.8099999999999998  :  0.868\n",
            "Accuracy pour l =  0.8299999999999998  :  0.871\n",
            "Accuracy pour l =  0.8499999999999999  :  0.859\n",
            "Accuracy pour l =  0.8699999999999999  :  0.866\n",
            "Accuracy pour l =  0.8899999999999999  :  0.869\n",
            "Accuracy pour l =  0.9099999999999999  :  0.869\n",
            "Accuracy pour l =  0.9299999999999998  :  0.871\n",
            "Accuracy pour l =  0.9499999999999998  :  0.873\n",
            "Accuracy pour l =  0.9699999999999999  :  0.867\n",
            "Accuracy pour l =  0.9899999999999999  :  0.867\n",
            "0.882\n",
            "0.24999999999999997\n"
          ]
        }
      ],
      "source": [
        "#Choix du learning_rate\n",
        "#PB valeurs chagent a chaque fois !!!\n",
        "accuracies=[]\n",
        "list_learning_rates=[]\n",
        "for l in np.arange(0.01, 1, 0.02):\n",
        "    perceptron1 =ClassifierPerceptron(784,l,0)\n",
        "    perceptron1.train(datasetTrain,labelsetTrain)\n",
        "    accuracies.append(perceptron1.accuracy(dataset2,labelset2))\n",
        "    list_learning_rates.append(l)\n",
        "    print(\"Accuracy pour l = \",l,\" : \", perceptron1.accuracy(dataset2,labelset2))\n",
        "    \n",
        "maximum=max(accuracies)\n",
        "learning_rate=list_learning_rates[accuracies.index(maximum)]\n",
        "print(maximum)\n",
        "print(learning_rate)"
      ]
    },
    {
      "cell_type": "code",
      "execution_count": null,
      "metadata": {
        "colab": {
          "base_uri": "https://localhost:8080/"
        },
        "id": "1vV6kXw1jEKV",
        "outputId": "8457a29d-12cc-4e67-d329-5aa0ea4085a9"
      },
      "outputs": [
        {
          "output_type": "stream",
          "name": "stdout",
          "text": [
            "0.24999999999999997\n",
            "Accuracy finale train :  1.0\n",
            "Accuracy avec datasetTest :  0.865\n"
          ]
        }
      ],
      "source": [
        "#tester différenttes valeurs niter_max et seuil ???\n",
        "print(learning_rate)\n",
        "perceptron2 =ClassifierPerceptron(784,learning_rate,0)\n",
        "\n",
        "#entrainement\n",
        "perceptron2.train(datasetTrain,labelsetTrain)\n",
        "\n",
        "#accuracy\n",
        "print(\"Accuracy finale train : \", perceptron2.accuracy(datasetTrain,labelsetTrain))\n",
        "\n",
        "#test\n",
        "print(\"Accuracy avec datasetTest : \",perceptron2.accuracy(dataset2,labelset2))"
      ]
    },
    {
      "cell_type": "code",
      "execution_count": null,
      "metadata": {
        "id": "po--Y8eqjEKV"
      },
      "outputs": [],
      "source": [
        "#exemples de tests de classifieurs : validation croisée(crossval TME4)\n",
        "#trouver d'autres tests"
      ]
    },
    {
      "cell_type": "markdown",
      "source": [
        "###Comparaison des classifieurs "
      ],
      "metadata": {
        "id": "OeQOOgTr0Yoo"
      }
    },
    {
      "cell_type": "code",
      "execution_count": null,
      "metadata": {
        "id": "4YHOpQWojEKW"
      },
      "outputs": [],
      "source": [
        "#cell pour mettre les comparaisons et expliquer le choix du classifieur : ici choix KNN car accuracy avec datasetTest plus importante"
      ]
    },
    {
      "cell_type": "markdown",
      "metadata": {
        "id": "vFYVZxRVjEKW"
      },
      "source": [
        "# Classification multiclasses\n",
        "A deplacer (mis ici temporairement pour éviter l'excécution d'une heure des predict sur eval)"
      ]
    },
    {
      "cell_type": "code",
      "execution_count": null,
      "metadata": {
        "id": "QRiS_BFWjEKW"
      },
      "outputs": [],
      "source": [
        "class Perceptron_MC(Classifier):\n",
        "    \"\"\" Perceptron pour faire la prédiction multi-classe\n",
        "    \"\"\"\n",
        "    def __init__(self, input_dimension,learning_rate, init=0):\n",
        "        \"\"\" Constructeur de Classifier\n",
        "            Argument:\n",
        "                - input_dimension (int) : dimension de la description des exemples (espace originel)\n",
        "                -classes \n",
        "        \"\"\"        \n",
        "        self.input_dimension= input_dimension\n",
        "        self.learning_rate=learning_rate\n",
        "       \n",
        "        self.l_Perceptrons=[]\n",
        "            \n",
        "                \n",
        "     \n",
        "    def train(self, desc_set, label_set, niter_max=100, seuil=0.001):\n",
        "        \"\"\" Apprentissage itératif du perceptron sur le dataset donné.\n",
        "            Arguments: (dans l'espace originel)\n",
        "                - desc_set: ndarray avec des descriptions\n",
        "                - label_set: ndarray avec les labels correspondants\n",
        "                - niter_max (par défaut: 100) : nombre d'itérations maximale\n",
        "                - seuil (par défaut: 0.01) : seuil de convergence\n",
        "            Retour: la fonction rend une liste\n",
        "                - liste des valeurs de norme de différences\n",
        "        \"\"\" \n",
        "        \n",
        "        lClasses=[]\n",
        "        for x in label_set:\n",
        "            if x not in lClasses:\n",
        "                lClasses.append(x)\n",
        "        lClasses=np.sort(lClasses)        \n",
        "\n",
        "        for y in lClasses:\n",
        "            label_temp=[]\n",
        "            for i in label_set:\n",
        "                if i==y:\n",
        "                    label_temp.append(1)\n",
        "                else:\n",
        "                    label_temp.append(-1)\n",
        "            Percep=ClassifierPerceptron(self.input_dimension,self.learning_rate)\n",
        "            Percep.train(desc_set,label_temp)\n",
        "            self.l_Perceptrons.append(Percep)\n",
        "            \n",
        "    \n",
        "    def score(self,x):\n",
        "        \"\"\" rend le score de prédiction sur x \n",
        "            x: une description (dans l'espace originel)\n",
        "        \"\"\"\n",
        "        if self.l_Perceptrons !=[]:\n",
        "            l_Scores=[]\n",
        "            l_P=self.l_Perceptrons\n",
        "            for p in l_P:\n",
        "                l_Scores.append(p.score(x))\n",
        "            return l_Scores\n",
        "    \n",
        "    def predict(self, x):\n",
        "        \"\"\" rend la prediction sur x (soit -1 ou soit +1)\n",
        "            x: une description (dans l'espace originel)\n",
        "        \"\"\" \n",
        "        return np.argmax(self.score(x))"
      ]
    },
    {
      "cell_type": "code",
      "execution_count": null,
      "metadata": {
        "id": "YN_Q5GesjEKX"
      },
      "outputs": [],
      "source": [
        "import copy \n",
        "\n",
        "def ClassifierMultiOAA(Classifier):\n",
        "    \"\"\" Classifieur générique multi-classe\n",
        "    \"\"\"\n",
        "    def __init__(self, input_dimension,learning_rate,classifier, init=0):\n",
        "        \"\"\" Constructeur de Classifier\n",
        "            Argument:\n",
        "                - input_dimension (int) : dimension de la description des exemples (espace originel)\n",
        "            \n",
        "        \"\"\"        \n",
        "        self.input_dimension= input_dimension\n",
        "        self.learning_rate=learning_rate\n",
        "       \n",
        "        self.l_Classifiers=[]\n",
        "        self.classifier=classifier\n",
        "                \n",
        "     \n",
        "    def train(self, desc_set, label_set, niter_max=100, seuil=0.001):\n",
        "        \"\"\" Apprentissage itératif du perceptron sur le dataset donné.\n",
        "            Arguments: (dans l'espace originel)\n",
        "                - desc_set: ndarray avec des descriptions\n",
        "                - label_set: ndarray avec les labels correspondants\n",
        "                - niter_max (par défaut: 100) : nombre d'itérations maximale\n",
        "                - seuil (par défaut: 0.01) : seuil de convergence\n",
        "            Retour: la fonction rend une liste\n",
        "                - liste des valeurs de norme de différences\n",
        "        \"\"\" \n",
        "        \n",
        "        lClasses=[]\n",
        "        for x in label_set:\n",
        "            if x not in lClasses:\n",
        "                lClasses.apppend(x)\n",
        "        lClasses=np.sort(lClasses)        \n",
        "\n",
        "        for y in lClasses:\n",
        "            label_temp=[]\n",
        "            for i in label_set:\n",
        "                if i==y:\n",
        "                    label_temp.append(1)\n",
        "                else:\n",
        "                    label_temp.append(-1)\n",
        "            Classi=copy.deepcopy(self.classifier)\n",
        "            Classi.train(desc_set,label_temp)\n",
        "            self.l_Classifiers.append(Classi)\n",
        "            \n",
        "    \n",
        "    def score(self,x):\n",
        "        \"\"\" rend le score de prédiction sur x \n",
        "            x: une description (dans l'espace originel)\n",
        "        \"\"\"\n",
        "        if self.l_Classifiers !=[]:\n",
        "            l_Scores=[]\n",
        "            l_C=self.l_Classifiers\n",
        "            for c in l_C:\n",
        "                l_Scores.append(c.score(x))\n",
        "            return l_Scores\n",
        "    \n",
        "    def predict(self, x):\n",
        "        \"\"\" rend la prediction sur x (soit -1 ou soit +1)\n",
        "            x: une description (dans l'espace originel)\n",
        "        \"\"\" \n",
        "        return np.argmax(self.score(x))"
      ]
    },
    {
      "cell_type": "code",
      "execution_count": null,
      "metadata": {
        "id": "tFscAqz8jEKY"
      },
      "outputs": [],
      "source": [
        "nameMulti_pd= pd.read_csv(\"C:/Users/ANadi/Documents/LU3IN026 - Science des données/projet 1/Bases_IADS_multiclasses/names_multi.csv\", sep=';')\n",
        "testMulti_pd=  pd.read_csv(\"C:/Users/ANadi/Documents/LU3IN026 - Science des données/projet 1/Bases_IADS_multiclasses/test_multi.csv\", sep=';', header= None, names=name_pd.keys())\n",
        "evalMulti_pd=  pd.read_csv(\"C:/Users/ANadi/Documents/LU3IN026 - Science des données/projet 1/Bases_IADS_multiclasses/eval_multi.csv\", sep=';', header= None, names=name_pd.keys())\n",
        "trainMulti_pd = pd.read_csv(\"C:/Users/ANadi/Documents/LU3IN026 - Science des données/projet 1/Bases_IADS_multiclasses/train_multi.csv\", sep=';', header= None, names=name_pd.keys()) #chemin a changer"
      ]
    },
    {
      "cell_type": "code",
      "execution_count": null,
      "metadata": {
        "id": "R5dUAHJcjEKZ",
        "outputId": "2f99c782-d6ac-4764-8c14-1813c951b9ab"
      },
      "outputs": [
        {
          "data": {
            "text/html": [
              "<div>\n",
              "<style scoped>\n",
              "    .dataframe tbody tr th:only-of-type {\n",
              "        vertical-align: middle;\n",
              "    }\n",
              "\n",
              "    .dataframe tbody tr th {\n",
              "        vertical-align: top;\n",
              "    }\n",
              "\n",
              "    .dataframe thead th {\n",
              "        text-align: right;\n",
              "    }\n",
              "</style>\n",
              "<table border=\"1\" class=\"dataframe\">\n",
              "  <thead>\n",
              "    <tr style=\"text-align: right;\">\n",
              "      <th></th>\n",
              "      <th>ident</th>\n",
              "      <th>A001</th>\n",
              "      <th>A002</th>\n",
              "      <th>A003</th>\n",
              "      <th>A004</th>\n",
              "      <th>A005</th>\n",
              "      <th>A006</th>\n",
              "      <th>A007</th>\n",
              "      <th>A008</th>\n",
              "      <th>A009</th>\n",
              "      <th>...</th>\n",
              "      <th>A776</th>\n",
              "      <th>A777</th>\n",
              "      <th>A778</th>\n",
              "      <th>A779</th>\n",
              "      <th>A780</th>\n",
              "      <th>A781</th>\n",
              "      <th>A782</th>\n",
              "      <th>A783</th>\n",
              "      <th>A784</th>\n",
              "      <th>label</th>\n",
              "    </tr>\n",
              "  </thead>\n",
              "  <tbody>\n",
              "    <tr>\n",
              "      <th>0</th>\n",
              "      <td>90001</td>\n",
              "      <td>0</td>\n",
              "      <td>0</td>\n",
              "      <td>0</td>\n",
              "      <td>0</td>\n",
              "      <td>0</td>\n",
              "      <td>0</td>\n",
              "      <td>0</td>\n",
              "      <td>0</td>\n",
              "      <td>0</td>\n",
              "      <td>...</td>\n",
              "      <td>0</td>\n",
              "      <td>0</td>\n",
              "      <td>0</td>\n",
              "      <td>0</td>\n",
              "      <td>0</td>\n",
              "      <td>0</td>\n",
              "      <td>0</td>\n",
              "      <td>0</td>\n",
              "      <td>0</td>\n",
              "      <td>-1</td>\n",
              "    </tr>\n",
              "    <tr>\n",
              "      <th>1</th>\n",
              "      <td>90002</td>\n",
              "      <td>0</td>\n",
              "      <td>0</td>\n",
              "      <td>0</td>\n",
              "      <td>0</td>\n",
              "      <td>0</td>\n",
              "      <td>0</td>\n",
              "      <td>0</td>\n",
              "      <td>0</td>\n",
              "      <td>0</td>\n",
              "      <td>...</td>\n",
              "      <td>0</td>\n",
              "      <td>0</td>\n",
              "      <td>0</td>\n",
              "      <td>0</td>\n",
              "      <td>0</td>\n",
              "      <td>0</td>\n",
              "      <td>0</td>\n",
              "      <td>0</td>\n",
              "      <td>0</td>\n",
              "      <td>-1</td>\n",
              "    </tr>\n",
              "    <tr>\n",
              "      <th>2</th>\n",
              "      <td>90003</td>\n",
              "      <td>0</td>\n",
              "      <td>0</td>\n",
              "      <td>0</td>\n",
              "      <td>0</td>\n",
              "      <td>0</td>\n",
              "      <td>0</td>\n",
              "      <td>0</td>\n",
              "      <td>0</td>\n",
              "      <td>0</td>\n",
              "      <td>...</td>\n",
              "      <td>0</td>\n",
              "      <td>0</td>\n",
              "      <td>0</td>\n",
              "      <td>0</td>\n",
              "      <td>0</td>\n",
              "      <td>0</td>\n",
              "      <td>0</td>\n",
              "      <td>0</td>\n",
              "      <td>0</td>\n",
              "      <td>-1</td>\n",
              "    </tr>\n",
              "    <tr>\n",
              "      <th>3</th>\n",
              "      <td>90004</td>\n",
              "      <td>0</td>\n",
              "      <td>0</td>\n",
              "      <td>0</td>\n",
              "      <td>0</td>\n",
              "      <td>0</td>\n",
              "      <td>0</td>\n",
              "      <td>0</td>\n",
              "      <td>0</td>\n",
              "      <td>0</td>\n",
              "      <td>...</td>\n",
              "      <td>0</td>\n",
              "      <td>0</td>\n",
              "      <td>0</td>\n",
              "      <td>0</td>\n",
              "      <td>0</td>\n",
              "      <td>0</td>\n",
              "      <td>0</td>\n",
              "      <td>0</td>\n",
              "      <td>0</td>\n",
              "      <td>-1</td>\n",
              "    </tr>\n",
              "    <tr>\n",
              "      <th>4</th>\n",
              "      <td>90005</td>\n",
              "      <td>0</td>\n",
              "      <td>0</td>\n",
              "      <td>0</td>\n",
              "      <td>0</td>\n",
              "      <td>0</td>\n",
              "      <td>0</td>\n",
              "      <td>0</td>\n",
              "      <td>0</td>\n",
              "      <td>0</td>\n",
              "      <td>...</td>\n",
              "      <td>0</td>\n",
              "      <td>0</td>\n",
              "      <td>0</td>\n",
              "      <td>0</td>\n",
              "      <td>0</td>\n",
              "      <td>0</td>\n",
              "      <td>0</td>\n",
              "      <td>0</td>\n",
              "      <td>0</td>\n",
              "      <td>-1</td>\n",
              "    </tr>\n",
              "  </tbody>\n",
              "</table>\n",
              "<p>5 rows × 786 columns</p>\n",
              "</div>"
            ],
            "text/plain": [
              "   ident  A001  A002  A003  A004  A005  A006  A007  A008  A009  ...  A776  \\\n",
              "0  90001     0     0     0     0     0     0     0     0     0  ...     0   \n",
              "1  90002     0     0     0     0     0     0     0     0     0  ...     0   \n",
              "2  90003     0     0     0     0     0     0     0     0     0  ...     0   \n",
              "3  90004     0     0     0     0     0     0     0     0     0  ...     0   \n",
              "4  90005     0     0     0     0     0     0     0     0     0  ...     0   \n",
              "\n",
              "   A777  A778  A779  A780  A781  A782  A783  A784  label  \n",
              "0     0     0     0     0     0     0     0     0     -1  \n",
              "1     0     0     0     0     0     0     0     0     -1  \n",
              "2     0     0     0     0     0     0     0     0     -1  \n",
              "3     0     0     0     0     0     0     0     0     -1  \n",
              "4     0     0     0     0     0     0     0     0     -1  \n",
              "\n",
              "[5 rows x 786 columns]"
            ]
          },
          "execution_count": 65,
          "metadata": {},
          "output_type": "execute_result"
        }
      ],
      "source": [
        "evalMulti_pd.head()"
      ]
    },
    {
      "cell_type": "code",
      "execution_count": null,
      "metadata": {
        "id": "kmN-rYUOjEKZ"
      },
      "outputs": [],
      "source": [
        "#Construction des datasets train et test (change les noms) : multi_T = train, 2 = test pour l'instant\n",
        "dataset_multi_T= []\n",
        "dataset_multi2= []\n",
        "labelset_multi_T=[]\n",
        "labelset_multi2=[]\n",
        "\n",
        "l, c = train_pd.shape\n",
        "\n",
        "for i in range(l):\n",
        "    dataset_multi_T.append(np.array(trainMulti_pd.loc[i].tolist()[1:c-1]))\n",
        "    labelset_multi_T.append(trainMulti_pd.loc[i].tolist()[c-1])\n",
        "    \n",
        "    dataset_multi2.append(np.array(testMulti_pd.loc[i].tolist()[1:c-1]))\n",
        "    labelset_multi2.append(testMulti_pd.loc[i].tolist()[c-1])"
      ]
    },
    {
      "cell_type": "markdown",
      "metadata": {
        "id": "xQ5c9qhHjEKZ"
      },
      "source": [
        "### Expérimentations perceptron"
      ]
    },
    {
      "cell_type": "code",
      "execution_count": null,
      "metadata": {
        "id": "jnmVEXo7jEKa",
        "outputId": "4536a015-88a7-441e-f962-204c73cf3622"
      },
      "outputs": [
        {
          "name": "stdout",
          "output_type": "stream",
          "text": [
            "Accuracy pour l =  0.01  :  0.954\n",
            "Accuracy pour l =  0.03  :  0.953\n",
            "Accuracy pour l =  0.049999999999999996  :  0.955\n",
            "Accuracy pour l =  0.06999999999999999  :  0.956\n",
            "Accuracy pour l =  0.08999999999999998  :  0.959\n",
            "Accuracy pour l =  0.10999999999999997  :  0.959\n",
            "Accuracy pour l =  0.12999999999999998  :  0.958\n",
            "Accuracy pour l =  0.15  :  0.964\n",
            "Accuracy pour l =  0.16999999999999998  :  0.96\n",
            "Accuracy pour l =  0.18999999999999997  :  0.959\n",
            "Accuracy pour l =  0.20999999999999996  :  0.961\n",
            "Accuracy pour l =  0.22999999999999998  :  0.956\n",
            "Accuracy pour l =  0.24999999999999997  :  0.964\n",
            "Accuracy pour l =  0.26999999999999996  :  0.964\n",
            "Accuracy pour l =  0.29  :  0.957\n",
            "Accuracy pour l =  0.30999999999999994  :  0.958\n",
            "Accuracy pour l =  0.32999999999999996  :  0.961\n",
            "Accuracy pour l =  0.35  :  0.963\n",
            "Accuracy pour l =  0.36999999999999994  :  0.954\n",
            "Accuracy pour l =  0.38999999999999996  :  0.959\n",
            "Accuracy pour l =  0.4099999999999999  :  0.961\n",
            "Accuracy pour l =  0.42999999999999994  :  0.954\n",
            "Accuracy pour l =  0.44999999999999996  :  0.955\n",
            "Accuracy pour l =  0.4699999999999999  :  0.96\n",
            "Accuracy pour l =  0.48999999999999994  :  0.961\n",
            "Accuracy pour l =  0.5099999999999999  :  0.961\n",
            "Accuracy pour l =  0.5299999999999999  :  0.959\n",
            "Accuracy pour l =  0.5499999999999999  :  0.96\n",
            "Accuracy pour l =  0.57  :  0.96\n",
            "Accuracy pour l =  0.59  :  0.957\n",
            "Accuracy pour l =  0.6099999999999999  :  0.955\n",
            "Accuracy pour l =  0.6299999999999999  :  0.961\n",
            "Accuracy pour l =  0.6499999999999999  :  0.964\n",
            "Accuracy pour l =  0.6699999999999999  :  0.962\n",
            "Accuracy pour l =  0.69  :  0.957\n",
            "Accuracy pour l =  0.7099999999999999  :  0.955\n",
            "Accuracy pour l =  0.7299999999999999  :  0.954\n",
            "Accuracy pour l =  0.7499999999999999  :  0.955\n",
            "Accuracy pour l =  0.7699999999999999  :  0.958\n",
            "Accuracy pour l =  0.7899999999999999  :  0.957\n",
            "Accuracy pour l =  0.8099999999999998  :  0.954\n",
            "Accuracy pour l =  0.8299999999999998  :  0.955\n",
            "Accuracy pour l =  0.8499999999999999  :  0.96\n",
            "Accuracy pour l =  0.8699999999999999  :  0.962\n",
            "Accuracy pour l =  0.8899999999999999  :  0.956\n",
            "Accuracy pour l =  0.9099999999999999  :  0.961\n",
            "Accuracy pour l =  0.9299999999999998  :  0.958\n",
            "Accuracy pour l =  0.9499999999999998  :  0.953\n",
            "Accuracy pour l =  0.9699999999999999  :  0.957\n",
            "Accuracy pour l =  0.9899999999999999  :  0.957\n",
            "Accuracy max =  0.964  pour le learning rate =  0.15\n"
          ]
        }
      ],
      "source": [
        "accuraciesM=[]\n",
        "list_learning_ratesM=[]\n",
        "for l in np.arange(0.01, 1, 0.02):\n",
        "    perceptronM =Perceptron_MC(784,l,0)\n",
        "    perceptronM.train(dataset_multi_T,labelset_multi_T)\n",
        "    accuraciesM.append(perceptronM.accuracy(dataset_multi2,labelset_multi2))\n",
        "    list_learning_ratesM.append(l)\n",
        "    print(\"Accuracy pour l = \",l,\" : \", perceptronM.accuracy(dataset_multi2,labelset_multi2))\n",
        "    \n",
        "maxi=max(accuraciesM)\n",
        "l_rate=list_learning_ratesM[accuraciesM.index(maxi)]\n",
        "print(\"Accuracy max = \",maxi,\" pour le learning rate = \",l_rate)"
      ]
    },
    {
      "cell_type": "code",
      "execution_count": null,
      "metadata": {
        "id": "VU7A271wjEKb",
        "outputId": "4d0d4632-4195-4e9d-b2d1-eb1219802fd9"
      },
      "outputs": [
        {
          "ename": "ValueError",
          "evalue": "The truth value of an array with more than one element is ambiguous. Use a.any() or a.all()",
          "output_type": "error",
          "traceback": [
            "\u001b[1;31m---------------------------------------------------------------------------\u001b[0m",
            "\u001b[1;31mValueError\u001b[0m                                Traceback (most recent call last)",
            "\u001b[1;32m~\\AppData\\Local\\Temp/ipykernel_3616/2250852640.py\u001b[0m in \u001b[0;36m<module>\u001b[1;34m\u001b[0m\n\u001b[0;32m      5\u001b[0m \u001b[1;33m\u001b[0m\u001b[0m\n\u001b[0;32m      6\u001b[0m \u001b[1;31m#accuracy\u001b[0m\u001b[1;33m\u001b[0m\u001b[1;33m\u001b[0m\u001b[0m\n\u001b[1;32m----> 7\u001b[1;33m \u001b[0mprint\u001b[0m\u001b[1;33m(\u001b[0m\u001b[1;34m\"Accuracy finale train : \"\u001b[0m\u001b[1;33m,\u001b[0m \u001b[0mperceptronM2\u001b[0m\u001b[1;33m.\u001b[0m\u001b[0maccuracy\u001b[0m\u001b[1;33m(\u001b[0m\u001b[0mdataset_multi_T\u001b[0m\u001b[1;33m,\u001b[0m\u001b[0mdataset_multi_T\u001b[0m\u001b[1;33m)\u001b[0m\u001b[1;33m)\u001b[0m\u001b[1;33m\u001b[0m\u001b[1;33m\u001b[0m\u001b[0m\n\u001b[0m\u001b[0;32m      8\u001b[0m \u001b[1;33m\u001b[0m\u001b[0m\n\u001b[0;32m      9\u001b[0m \u001b[1;31m#test\u001b[0m\u001b[1;33m\u001b[0m\u001b[1;33m\u001b[0m\u001b[0m\n",
            "\u001b[1;32m~\\AppData\\Local\\Temp/ipykernel_3616/3731769242.py\u001b[0m in \u001b[0;36maccuracy\u001b[1;34m(self, desc_set, label_set)\u001b[0m\n\u001b[0;32m     41\u001b[0m         \u001b[0mcpt\u001b[0m\u001b[1;33m=\u001b[0m\u001b[1;36m0\u001b[0m\u001b[1;33m\u001b[0m\u001b[1;33m\u001b[0m\u001b[0m\n\u001b[0;32m     42\u001b[0m         \u001b[1;32mfor\u001b[0m \u001b[0mx\u001b[0m \u001b[1;32min\u001b[0m \u001b[0mrange\u001b[0m\u001b[1;33m(\u001b[0m\u001b[0mlen\u001b[0m\u001b[1;33m(\u001b[0m\u001b[0mdesc_set\u001b[0m\u001b[1;33m)\u001b[0m\u001b[1;33m)\u001b[0m\u001b[1;33m:\u001b[0m\u001b[1;33m\u001b[0m\u001b[1;33m\u001b[0m\u001b[0m\n\u001b[1;32m---> 43\u001b[1;33m             \u001b[1;32mif\u001b[0m \u001b[0mself\u001b[0m\u001b[1;33m.\u001b[0m\u001b[0mpredict\u001b[0m\u001b[1;33m(\u001b[0m\u001b[0mdesc_set\u001b[0m\u001b[1;33m[\u001b[0m\u001b[0mx\u001b[0m\u001b[1;33m]\u001b[0m\u001b[1;33m)\u001b[0m \u001b[1;33m==\u001b[0m \u001b[0mlabel_set\u001b[0m\u001b[1;33m[\u001b[0m\u001b[0mx\u001b[0m\u001b[1;33m]\u001b[0m\u001b[1;33m:\u001b[0m\u001b[1;33m\u001b[0m\u001b[1;33m\u001b[0m\u001b[0m\n\u001b[0m\u001b[0;32m     44\u001b[0m                 \u001b[0mcpt\u001b[0m\u001b[1;33m+=\u001b[0m\u001b[1;36m1\u001b[0m\u001b[1;33m\u001b[0m\u001b[1;33m\u001b[0m\u001b[0m\n\u001b[0;32m     45\u001b[0m         \u001b[1;32mreturn\u001b[0m \u001b[0mcpt\u001b[0m\u001b[1;33m/\u001b[0m\u001b[0mlen\u001b[0m\u001b[1;33m(\u001b[0m\u001b[0mdesc_set\u001b[0m\u001b[1;33m)\u001b[0m\u001b[1;33m\u001b[0m\u001b[1;33m\u001b[0m\u001b[0m\n",
            "\u001b[1;31mValueError\u001b[0m: The truth value of an array with more than one element is ambiguous. Use a.any() or a.all()"
          ]
        }
      ],
      "source": [
        "perceptronM2 =ClassifierPerceptron(784,l_rate,0)\n",
        "\n",
        "#entrainement\n",
        "perceptronM2.train(dataset_multi_T,labelset_multi_T)\n",
        "\n",
        "#accuracy \n",
        "#PB : accuracy ne marche pas pour dataset de train mais marche pour le reste \n",
        "print(\"Accuracy finale train : \", perceptronM2.accuracy(dataset_multi_T,dataset_multi_T))\n",
        "\n",
        "#test\n",
        "print(\"Accuracy avec datasetTest : \",perceptronM2.accuracy(dataset_multi2,labelset_multi2))"
      ]
    },
    {
      "cell_type": "code",
      "execution_count": null,
      "metadata": {
        "id": "wB2MruJTjEKc"
      },
      "outputs": [],
      "source": [
        ""
      ]
    },
    {
      "cell_type": "markdown",
      "metadata": {
        "id": "JEuCF5WYjEKc"
      },
      "source": [
        "### Expérimentations KNN"
      ]
    },
    {
      "cell_type": "code",
      "execution_count": null,
      "metadata": {
        "id": "UAtlDJcbjEKd",
        "outputId": "e8d86b6f-5108-46de-8ade-f078431a38ca"
      },
      "outputs": [
        {
          "ename": "TypeError",
          "evalue": "ClassifierMultiOAA() takes 1 positional argument but 3 were given",
          "output_type": "error",
          "traceback": [
            "\u001b[1;31m---------------------------------------------------------------------------\u001b[0m",
            "\u001b[1;31mTypeError\u001b[0m                                 Traceback (most recent call last)",
            "\u001b[1;32m~\\AppData\\Local\\Temp/ipykernel_3616/366894216.py\u001b[0m in \u001b[0;36m<module>\u001b[1;34m\u001b[0m\n\u001b[0;32m     10\u001b[0m \u001b[1;32mfor\u001b[0m \u001b[0mi\u001b[0m \u001b[1;32min\u001b[0m \u001b[0mvaleurs_k\u001b[0m\u001b[1;33m:\u001b[0m\u001b[1;33m\u001b[0m\u001b[1;33m\u001b[0m\u001b[0m\n\u001b[0;32m     11\u001b[0m     \u001b[0mclassiKNN\u001b[0m\u001b[1;33m=\u001b[0m\u001b[0mClassifierKNN\u001b[0m\u001b[1;33m(\u001b[0m\u001b[1;36m784\u001b[0m\u001b[1;33m,\u001b[0m \u001b[0mi\u001b[0m\u001b[1;33m)\u001b[0m\u001b[1;33m\u001b[0m\u001b[1;33m\u001b[0m\u001b[0m\n\u001b[1;32m---> 12\u001b[1;33m     \u001b[0mclassifierKNN_MC\u001b[0m \u001b[1;33m=\u001b[0m \u001b[0mClassifierMultiOAA\u001b[0m\u001b[1;33m(\u001b[0m\u001b[1;36m784\u001b[0m\u001b[1;33m,\u001b[0m\u001b[0ml_rate\u001b[0m\u001b[1;33m,\u001b[0m\u001b[0mclassiKNN\u001b[0m\u001b[1;33m)\u001b[0m\u001b[1;33m\u001b[0m\u001b[1;33m\u001b[0m\u001b[0m\n\u001b[0m\u001b[0;32m     13\u001b[0m     \u001b[0mclassifierKNN_MC\u001b[0m\u001b[1;33m.\u001b[0m\u001b[0mtrain\u001b[0m\u001b[1;33m(\u001b[0m\u001b[0mdatasetTrain\u001b[0m\u001b[1;33m,\u001b[0m \u001b[0mlabelsetTrain\u001b[0m\u001b[1;33m)\u001b[0m\u001b[1;33m\u001b[0m\u001b[1;33m\u001b[0m\u001b[0m\n\u001b[0;32m     14\u001b[0m     \u001b[0maccuraciesM2\u001b[0m\u001b[1;33m.\u001b[0m\u001b[0mappend\u001b[0m\u001b[1;33m(\u001b[0m\u001b[0mclassifierKNN2\u001b[0m\u001b[1;33m.\u001b[0m\u001b[0maccuracy\u001b[0m\u001b[1;33m(\u001b[0m\u001b[0mdatasetTrain\u001b[0m\u001b[1;33m,\u001b[0m \u001b[0mlabelsetTrain\u001b[0m\u001b[1;33m)\u001b[0m\u001b[1;33m)\u001b[0m\u001b[1;33m\u001b[0m\u001b[1;33m\u001b[0m\u001b[0m\n",
            "\u001b[1;31mTypeError\u001b[0m: ClassifierMultiOAA() takes 1 positional argument but 3 were given"
          ]
        }
      ],
      "source": [
        "# on stocke les accuracies dans une liste :\n",
        "accuraciesM2 = []\n",
        "\n",
        "# seuil max des valeurs de k à regarder:\n",
        "seuil_k = len(datasetTrain) // 20\n",
        "\n",
        "# toutes les valeurs de k à regarder:\n",
        "valeurs_k = [k for k in range(1,seuil_k,2)]\n",
        "\n",
        "for i in valeurs_k:\n",
        "    classifierKNN_MC = ClassifierMultiOAA(784,l_rate,ClassifierKNN(784, i))\n",
        "    classifierKNN_MC.train(datasetTrain, labelsetTrain)\n",
        "    accuraciesM2.append(classifierKNN2.accuracy(datasetTrain, labelsetTrain))\n",
        "\n",
        "# ---------------------------------------------\n",
        "for i in range(0,len(valeurs_k)):\n",
        "    print(\"Accuracy pour \",valeurs_k[i],\":\",accuraciesM2[i])\n",
        "\n"
      ]
    },
    {
      "cell_type": "code",
      "execution_count": null,
      "metadata": {
        "id": "wIUnjw2cjEKd"
      },
      "outputs": [],
      "source": [
        "#representation graphique variaition de l'accuracy en fonction de k\n",
        "plt.plot(valeurs_k, accuracies)  \n",
        "plt.ylabel('Accuracy')\n",
        "plt.xlabel(\"k\")\n",
        "plt.show()"
      ]
    },
    {
      "cell_type": "markdown",
      "metadata": {
        "id": "ktkusyiejEKe"
      },
      "source": [
        "# Traitement d'eval avec le meilleur classifier : KNN "
      ]
    },
    {
      "cell_type": "code",
      "execution_count": null,
      "metadata": {
        "id": "uulsM1rXsCyi"
      },
      "outputs": [],
      "source": [
        "#prediction sur le fichier eval avec le meilleur classifieur trouvé\n",
        "datasetEval=[]\n",
        "labelsetEval=[]\n",
        "l, c = train_pd.shape\n",
        "#print(datasetEval.append(np.array(eval_pd.loc[0].tolist()[1:c-1])))\n",
        "for i in range(l):\n",
        "    \n",
        "    datasetEval.append(np.array(eval_pd.loc[i].tolist()[1:c-1]))\n",
        "\n",
        "for j in range(l):\n",
        "    labelsetEval.append(classifieurKNNTest.predict(datasetEval[j:]))\n",
        "    print(labelsetEval[j])\n",
        "#faire des graphiques  \n",
        "\n",
        "#commencer la partie multiclasses "
      ]
    },
    {
      "cell_type": "code",
      "execution_count": null,
      "metadata": {
        "scrolled": true,
        "id": "67J6BSwyjEKf"
      },
      "outputs": [],
      "source": [
        "#creation fichier csv\n",
        "data=[]\n",
        "#np.array(eval_pd.loc[i].tolist()[0])\n",
        "for i in range(l):\n",
        "    data.append([eval_pd.loc[i].tolist()[0],labelsetEval[i]])\n",
        "#enlever noms colonnes ?\n",
        "df = pd.DataFrame(data, columns = ['IDENTIFIANT', 'CLASSE_TROUVEE_POUR_CET_EXEMPLE'])\n",
        "\n",
        "\n",
        "df.to_csv('projet-1-ALBITAR-AMRI.csv',index=False,sep=';')"
      ]
    },
    {
      "cell_type": "markdown",
      "metadata": {
        "id": "la9hYi8LjEKg"
      },
      "source": [
        "# Traitement d'eval avec le meilleur classifier multiclasses"
      ]
    },
    {
      "cell_type": "markdown",
      "metadata": {
        "id": "g1yRyfKwjEKg"
      },
      "source": [
        "# README\n",
        "## TO DO\n",
        "\n",
        "### Général:\n",
        "mis en forme, réaranger les cells (à la fin) pour que ce soit dans l'ordre\n",
        "rajouter des cells d'explication, trouver d'autres tests pertinents\n",
        "\n",
        "### Classification binaire:\n",
        "Faire fonctionner les graphiques (plotfrontiere et plot2D), en rajouter si il y en des intéressants\n",
        "\n",
        "### Classification multiclasses, débugger :\n",
        "pb pour KNN (ils disent que MUltiOAA n'a qu'un seul argument alors que c'est faux), pour Perceptron (accuracy ne fonctionne pas pour train) + accuracy de 0.2 :') pour les données de test donc NUL !!!"
      ]
    }
  ],
  "metadata": {
    "colab": {
      "name": "projet_1_ALBITAR_AMRI.ipynb",
      "provenance": [],
      "include_colab_link": true
    },
    "kernelspec": {
      "display_name": "Python 3 (ipykernel)",
      "language": "python",
      "name": "python3"
    },
    "language_info": {
      "codemirror_mode": {
        "name": "ipython",
        "version": 3
      },
      "file_extension": ".py",
      "mimetype": "text/x-python",
      "name": "python",
      "nbconvert_exporter": "python",
      "pygments_lexer": "ipython3",
      "version": "3.9.7"
    }
  },
  "nbformat": 4,
  "nbformat_minor": 0
}